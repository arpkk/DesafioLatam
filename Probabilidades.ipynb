{
 "cells": [
  {
   "cell_type": "markdown",
   "id": "a42cecae",
   "metadata": {},
   "source": [
    "# Desafio 1"
   ]
  },
  {
   "cell_type": "code",
   "execution_count": 94,
   "id": "aa816421",
   "metadata": {},
   "outputs": [],
   "source": [
    "import pandas as pd\n",
    "import numpy as np\n",
    "df = pd.read_csv(\"worldcup2014.csv\")"
   ]
  },
  {
   "cell_type": "code",
   "execution_count": 95,
   "id": "1765e684",
   "metadata": {},
   "outputs": [
    {
     "data": {
      "text/html": [
       "<div>\n",
       "<style scoped>\n",
       "    .dataframe tbody tr th:only-of-type {\n",
       "        vertical-align: middle;\n",
       "    }\n",
       "\n",
       "    .dataframe tbody tr th {\n",
       "        vertical-align: top;\n",
       "    }\n",
       "\n",
       "    .dataframe thead th {\n",
       "        text-align: right;\n",
       "    }\n",
       "</style>\n",
       "<table border=\"1\" class=\"dataframe\">\n",
       "  <thead>\n",
       "    <tr style=\"text-align: right;\">\n",
       "      <th></th>\n",
       "      <th>team</th>\n",
       "      <th>continent</th>\n",
       "      <th>group</th>\n",
       "      <th>group_pos</th>\n",
       "      <th>cantidad_juegos</th>\n",
       "      <th>juegos_ganados</th>\n",
       "      <th>juegos_empatados</th>\n",
       "      <th>juegos_perdidos</th>\n",
       "      <th>goles_favor</th>\n",
       "      <th>goles_contra</th>\n",
       "      <th>goles_diferencia</th>\n",
       "      <th>puntos</th>\n",
       "      <th>clasificado</th>\n",
       "    </tr>\n",
       "  </thead>\n",
       "  <tbody>\n",
       "    <tr>\n",
       "      <th>0</th>\n",
       "      <td>Brazil</td>\n",
       "      <td>southamerica</td>\n",
       "      <td>A</td>\n",
       "      <td>1</td>\n",
       "      <td>3</td>\n",
       "      <td>2</td>\n",
       "      <td>1</td>\n",
       "      <td>0</td>\n",
       "      <td>7</td>\n",
       "      <td>2</td>\n",
       "      <td>5</td>\n",
       "      <td>7</td>\n",
       "      <td>1</td>\n",
       "    </tr>\n",
       "    <tr>\n",
       "      <th>1</th>\n",
       "      <td>Mexico</td>\n",
       "      <td>northamerica</td>\n",
       "      <td>A</td>\n",
       "      <td>2</td>\n",
       "      <td>3</td>\n",
       "      <td>2</td>\n",
       "      <td>1</td>\n",
       "      <td>0</td>\n",
       "      <td>4</td>\n",
       "      <td>1</td>\n",
       "      <td>3</td>\n",
       "      <td>7</td>\n",
       "      <td>1</td>\n",
       "    </tr>\n",
       "    <tr>\n",
       "      <th>2</th>\n",
       "      <td>Croatia</td>\n",
       "      <td>europe</td>\n",
       "      <td>A</td>\n",
       "      <td>3</td>\n",
       "      <td>3</td>\n",
       "      <td>1</td>\n",
       "      <td>0</td>\n",
       "      <td>2</td>\n",
       "      <td>6</td>\n",
       "      <td>6</td>\n",
       "      <td>0</td>\n",
       "      <td>3</td>\n",
       "      <td>0</td>\n",
       "    </tr>\n",
       "    <tr>\n",
       "      <th>3</th>\n",
       "      <td>Cameroon</td>\n",
       "      <td>africa</td>\n",
       "      <td>A</td>\n",
       "      <td>4</td>\n",
       "      <td>3</td>\n",
       "      <td>0</td>\n",
       "      <td>0</td>\n",
       "      <td>3</td>\n",
       "      <td>1</td>\n",
       "      <td>9</td>\n",
       "      <td>−8</td>\n",
       "      <td>0</td>\n",
       "      <td>0</td>\n",
       "    </tr>\n",
       "    <tr>\n",
       "      <th>4</th>\n",
       "      <td>Netherlands</td>\n",
       "      <td>europe</td>\n",
       "      <td>B</td>\n",
       "      <td>1</td>\n",
       "      <td>3</td>\n",
       "      <td>3</td>\n",
       "      <td>0</td>\n",
       "      <td>0</td>\n",
       "      <td>10</td>\n",
       "      <td>3</td>\n",
       "      <td>7</td>\n",
       "      <td>9</td>\n",
       "      <td>1</td>\n",
       "    </tr>\n",
       "  </tbody>\n",
       "</table>\n",
       "</div>"
      ],
      "text/plain": [
       "          team     continent group  group_pos  cantidad_juegos  \\\n",
       "0       Brazil  southamerica     A          1                3   \n",
       "1       Mexico  northamerica     A          2                3   \n",
       "2      Croatia        europe     A          3                3   \n",
       "3     Cameroon        africa     A          4                3   \n",
       "4  Netherlands        europe     B          1                3   \n",
       "\n",
       "   juegos_ganados  juegos_empatados  juegos_perdidos  goles_favor  \\\n",
       "0               2                 1                0            7   \n",
       "1               2                 1                0            4   \n",
       "2               1                 0                2            6   \n",
       "3               0                 0                3            1   \n",
       "4               3                 0                0           10   \n",
       "\n",
       "   goles_contra goles_diferencia  puntos  clasificado  \n",
       "0             2                5       7            1  \n",
       "1             1                3       7            1  \n",
       "2             6                0       3            0  \n",
       "3             9               −8       0            0  \n",
       "4             3                7       9            1  "
      ]
     },
     "execution_count": 95,
     "metadata": {},
     "output_type": "execute_result"
    }
   ],
   "source": [
    "df.head(5)"
   ]
  },
  {
   "cell_type": "markdown",
   "id": "b64ffdb8",
   "metadata": {},
   "source": [
    "# Desafio 2"
   ]
  },
  {
   "cell_type": "markdown",
   "id": "cae94316",
   "metadata": {},
   "source": [
    "#### Continente con mayor participación"
   ]
  },
  {
   "cell_type": "code",
   "execution_count": 96,
   "id": "d024ce03",
   "metadata": {},
   "outputs": [
    {
     "data": {
      "text/plain": [
       "europe          13\n",
       "southamerica     6\n",
       "africa           5\n",
       "northamerica     4\n",
       "asia             4\n",
       "Name: continent, dtype: int64"
      ]
     },
     "execution_count": 96,
     "metadata": {},
     "output_type": "execute_result"
    }
   ],
   "source": [
    "df[\"continent\"].value_counts()"
   ]
  },
  {
   "cell_type": "markdown",
   "id": "30e559ec",
   "metadata": {},
   "source": [
    "#### Probabilidad de Asia"
   ]
  },
  {
   "cell_type": "code",
   "execution_count": 97,
   "id": "f1f45c2b",
   "metadata": {},
   "outputs": [
    {
     "data": {
      "text/plain": [
       "0.125"
      ]
     },
     "execution_count": 97,
     "metadata": {},
     "output_type": "execute_result"
    }
   ],
   "source": [
    "df[\"continent\"].value_counts().get(\"asia\")/len(df)"
   ]
  },
  {
   "cell_type": "markdown",
   "id": "9219e787",
   "metadata": {},
   "source": [
    "#### Probabilidad de Africa"
   ]
  },
  {
   "cell_type": "code",
   "execution_count": 98,
   "id": "806d414a",
   "metadata": {},
   "outputs": [
    {
     "data": {
      "text/plain": [
       "0.15625"
      ]
     },
     "execution_count": 98,
     "metadata": {},
     "output_type": "execute_result"
    }
   ],
   "source": [
    "df[\"continent\"].value_counts().get(\"africa\")/len(df)"
   ]
  },
  {
   "cell_type": "markdown",
   "id": "c99fb329",
   "metadata": {},
   "source": [
    "# Desafio 3"
   ]
  },
  {
   "cell_type": "code",
   "execution_count": 145,
   "id": "31766894",
   "metadata": {},
   "outputs": [
    {
     "name": "stdout",
     "output_type": "stream",
     "text": [
      "13 6 5 4 4\n"
     ]
    }
   ],
   "source": [
    "obs=df['continent'].value_counts()\n",
    "europe=df[df[\"continent\"]==\"europe\"][\"team\"].count()\n",
    "southamerica=df[df[\"continent\"]==\"southamerica\"][\"team\"].count()\n",
    "africa=df[df[\"continent\"]==\"africa\"][\"team\"].count()\n",
    "northamerica=df[df[\"continent\"]==\"northamerica\"][\"team\"].count()\n",
    "asia=df[df[\"continent\"]==\"asia\"][\"team\"].count()\n",
    "print(europe,southamerica,africa,northamerica,asia)"
   ]
  },
  {
   "cell_type": "markdown",
   "id": "8b704e73",
   "metadata": {},
   "source": [
    "# Desafio 4"
   ]
  },
  {
   "cell_type": "code",
   "execution_count": 159,
   "id": "89b91eb8",
   "metadata": {},
   "outputs": [
    {
     "data": {
      "text/plain": [
       "continent\n",
       "africa          0.400000\n",
       "asia            0.000000\n",
       "europe          0.461538\n",
       "northamerica    0.750000\n",
       "southamerica    0.833333\n",
       "Name: clasificado, dtype: float64"
      ]
     },
     "execution_count": 159,
     "metadata": {},
     "output_type": "execute_result"
    }
   ],
   "source": [
    "df.groupby([\"continent\"])[\"clasificado\"].mean()"
   ]
  },
  {
   "cell_type": "markdown",
   "id": "06ead791",
   "metadata": {},
   "source": [
    "### ¿Cuál es la probabilidad de que un país asiático pase a la siguiente ronda?\n",
    "#### Tiene 0% de probabilidad para que pase a la siguiente ronda\n",
    "\n",
    "### ¿Cuáles son los dos continentes con la mayor probabilidad de clasificar?\n",
    "#### southamerica y northamerica\n",
    "\n",
    "### ¿Cuál es la probabilidad de que un país europeo no clasifique?"
   ]
  },
  {
   "cell_type": "code",
   "execution_count": 160,
   "id": "fcaff77a",
   "metadata": {},
   "outputs": [
    {
     "data": {
      "text/plain": [
       "0.5384615384615384"
      ]
     },
     "execution_count": 160,
     "metadata": {},
     "output_type": "execute_result"
    }
   ],
   "source": [
    "1 - df[df[\"continent\"]== \"europe\"][\"clasificado\"].mean()"
   ]
  },
  {
   "cell_type": "markdown",
   "id": "d112c6bc",
   "metadata": {},
   "source": [
    "# Desafio 5"
   ]
  },
  {
   "cell_type": "code",
   "execution_count": 169,
   "id": "c8e4d7c3",
   "metadata": {},
   "outputs": [
    {
     "data": {
      "text/plain": [
       "continent     ha_ganado\n",
       "africa        1            0.600000\n",
       "              0            0.400000\n",
       "asia          0            1.000000\n",
       "europe        1            0.846154\n",
       "              0            0.153846\n",
       "northamerica  1            0.750000\n",
       "              0            0.250000\n",
       "southamerica  1            1.000000\n",
       "Name: ha_ganado, dtype: float64"
      ]
     },
     "execution_count": 169,
     "metadata": {},
     "output_type": "execute_result"
    }
   ],
   "source": [
    "df[\"ha_ganado\"]=np.where(df[\"juegos_ganados\"]>0,1,0)\n",
    "df.groupby([\"continent\"])[\"ha_ganado\"].value_counts(\"%\")"
   ]
  },
  {
   "cell_type": "markdown",
   "id": "c12f04d4",
   "metadata": {},
   "source": [
    "### ¿Qué continente tiene la mayor probabilidad de tener países con al menos 1 victoria?\n",
    "#### southamerica\n",
    "\n",
    "### ¿Qué continente tiene un nivel similar entre países que tienen o no tienen victorias?\n",
    "#### africa con 0.6 ganadas y 0.4 perdidas"
   ]
  },
  {
   "cell_type": "markdown",
   "id": "8185a121",
   "metadata": {},
   "source": [
    "### Analice los continentes con mayor probabilidad de tener países sin juegos perdidos."
   ]
  },
  {
   "cell_type": "code",
   "execution_count": 182,
   "id": "a1380480",
   "metadata": {},
   "outputs": [
    {
     "data": {
      "text/plain": [
       "continent     ha_ganado\n",
       "southamerica  1            1.000000\n",
       "europe        1            0.846154\n",
       "northamerica  1            0.750000\n",
       "africa        1            0.600000\n",
       "              0            0.400000\n",
       "northamerica  0            0.250000\n",
       "europe        0            0.153846\n",
       "Name: ha_ganado, dtype: float64"
      ]
     },
     "execution_count": 182,
     "metadata": {},
     "output_type": "execute_result"
    }
   ],
   "source": [
    "df.groupby([\"continent\"])[\"ha_ganado\"].value_counts(\"%\").sort_values(ascending=False)[1:]"
   ]
  }
 ],
 "metadata": {
  "kernelspec": {
   "display_name": "Python 3",
   "language": "python",
   "name": "python3"
  },
  "language_info": {
   "codemirror_mode": {
    "name": "ipython",
    "version": 3
   },
   "file_extension": ".py",
   "mimetype": "text/x-python",
   "name": "python",
   "nbconvert_exporter": "python",
   "pygments_lexer": "ipython3",
   "version": "3.8.8"
  }
 },
 "nbformat": 4,
 "nbformat_minor": 5
}
