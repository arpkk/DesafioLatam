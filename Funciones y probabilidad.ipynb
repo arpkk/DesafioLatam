{
 "cells": [
  {
   "cell_type": "markdown",
   "id": "7d79a3e7",
   "metadata": {},
   "source": [
    "# Desafio 1"
   ]
  },
  {
   "cell_type": "code",
   "execution_count": 1,
   "id": "70f4f086",
   "metadata": {},
   "outputs": [],
   "source": [
    "import pandas as pd\n",
    "import numpy as np\n",
    "x=[1,2,3,4,5]\n",
    "\n",
    "def media(x):\n",
    "    return sum(x)/len(x)\n",
    "\n",
    "def varianza(x):\n",
    "    y=[(n-media(x))**2 for n in x]\n",
    "    return sum(y)/len(x)"
   ]
  },
  {
   "cell_type": "code",
   "execution_count": 2,
   "id": "c8849030",
   "metadata": {},
   "outputs": [
    {
     "data": {
      "text/plain": [
       "3.0"
      ]
     },
     "execution_count": 2,
     "metadata": {},
     "output_type": "execute_result"
    }
   ],
   "source": [
    "media(x)"
   ]
  },
  {
   "cell_type": "code",
   "execution_count": 3,
   "id": "194b5ab8",
   "metadata": {},
   "outputs": [
    {
     "data": {
      "text/plain": [
       "2.0"
      ]
     },
     "execution_count": 3,
     "metadata": {},
     "output_type": "execute_result"
    }
   ],
   "source": [
    "varianza(x)"
   ]
  },
  {
   "cell_type": "markdown",
   "id": "b275389c",
   "metadata": {},
   "source": [
    "# Desafio 2"
   ]
  },
  {
   "cell_type": "markdown",
   "id": "5274b306",
   "metadata": {},
   "source": [
    "## Media"
   ]
  },
  {
   "cell_type": "code",
   "execution_count": 4,
   "id": "5f6698a0",
   "metadata": {},
   "outputs": [
    {
     "data": {
      "text/html": [
       "<div>\n",
       "<style scoped>\n",
       "    .dataframe tbody tr th:only-of-type {\n",
       "        vertical-align: middle;\n",
       "    }\n",
       "\n",
       "    .dataframe tbody tr th {\n",
       "        vertical-align: top;\n",
       "    }\n",
       "\n",
       "    .dataframe thead th {\n",
       "        text-align: right;\n",
       "    }\n",
       "</style>\n",
       "<table border=\"1\" class=\"dataframe\">\n",
       "  <thead>\n",
       "    <tr style=\"text-align: right;\">\n",
       "      <th></th>\n",
       "      <th>favor</th>\n",
       "      <th>contra</th>\n",
       "      <th>puntos</th>\n",
       "    </tr>\n",
       "    <tr>\n",
       "      <th>continent</th>\n",
       "      <th></th>\n",
       "      <th></th>\n",
       "      <th></th>\n",
       "    </tr>\n",
       "  </thead>\n",
       "  <tbody>\n",
       "    <tr>\n",
       "      <th>africa</th>\n",
       "      <td>3.600000</td>\n",
       "      <td>5.600000</td>\n",
       "      <td>2.400000</td>\n",
       "    </tr>\n",
       "    <tr>\n",
       "      <th>asia</th>\n",
       "      <td>2.250000</td>\n",
       "      <td>6.250000</td>\n",
       "      <td>0.750000</td>\n",
       "    </tr>\n",
       "    <tr>\n",
       "      <th>europe</th>\n",
       "      <td>4.769231</td>\n",
       "      <td>4.000000</td>\n",
       "      <td>4.692308</td>\n",
       "    </tr>\n",
       "    <tr>\n",
       "      <th>northamerica</th>\n",
       "      <td>3.250000</td>\n",
       "      <td>3.500000</td>\n",
       "      <td>4.500000</td>\n",
       "    </tr>\n",
       "    <tr>\n",
       "      <th>southamerica</th>\n",
       "      <td>5.666667</td>\n",
       "      <td>2.833333</td>\n",
       "      <td>6.833333</td>\n",
       "    </tr>\n",
       "  </tbody>\n",
       "</table>\n",
       "</div>"
      ],
      "text/plain": [
       "                 favor    contra    puntos\n",
       "continent                                 \n",
       "africa        3.600000  5.600000  2.400000\n",
       "asia          2.250000  6.250000  0.750000\n",
       "europe        4.769231  4.000000  4.692308\n",
       "northamerica  3.250000  3.500000  4.500000\n",
       "southamerica  5.666667  2.833333  6.833333"
      ]
     },
     "execution_count": 4,
     "metadata": {},
     "output_type": "execute_result"
    }
   ],
   "source": [
    "import pandas as pd\n",
    "import numpy as np\n",
    "df = pd.read_csv(\"worldcup2014.csv\")\n",
    "df.groupby([\"continent\"]).agg(favor=(\"goles_favor\",\"mean\"), contra=(\"goles_contra\", \"mean\"), puntos= (\"puntos\", \"mean\"))"
   ]
  },
  {
   "cell_type": "markdown",
   "id": "adb6ac99",
   "metadata": {},
   "source": [
    "## Varianza"
   ]
  },
  {
   "cell_type": "code",
   "execution_count": 5,
   "id": "985f7309",
   "metadata": {},
   "outputs": [
    {
     "data": {
      "text/html": [
       "<div>\n",
       "<style scoped>\n",
       "    .dataframe tbody tr th:only-of-type {\n",
       "        vertical-align: middle;\n",
       "    }\n",
       "\n",
       "    .dataframe tbody tr th {\n",
       "        vertical-align: top;\n",
       "    }\n",
       "\n",
       "    .dataframe thead th {\n",
       "        text-align: right;\n",
       "    }\n",
       "</style>\n",
       "<table border=\"1\" class=\"dataframe\">\n",
       "  <thead>\n",
       "    <tr style=\"text-align: right;\">\n",
       "      <th></th>\n",
       "      <th>favor</th>\n",
       "      <th>contra</th>\n",
       "      <th>puntos</th>\n",
       "    </tr>\n",
       "    <tr>\n",
       "      <th>continent</th>\n",
       "      <th></th>\n",
       "      <th></th>\n",
       "      <th></th>\n",
       "    </tr>\n",
       "  </thead>\n",
       "  <tbody>\n",
       "    <tr>\n",
       "      <th>africa</th>\n",
       "      <td>3.300000</td>\n",
       "      <td>4.800000</td>\n",
       "      <td>3.300000</td>\n",
       "    </tr>\n",
       "    <tr>\n",
       "      <th>asia</th>\n",
       "      <td>0.916667</td>\n",
       "      <td>4.250000</td>\n",
       "      <td>0.250000</td>\n",
       "    </tr>\n",
       "    <tr>\n",
       "      <th>europe</th>\n",
       "      <td>6.858974</td>\n",
       "      <td>3.833333</td>\n",
       "      <td>6.897436</td>\n",
       "    </tr>\n",
       "    <tr>\n",
       "      <th>northamerica</th>\n",
       "      <td>2.250000</td>\n",
       "      <td>11.000000</td>\n",
       "      <td>11.000000</td>\n",
       "    </tr>\n",
       "    <tr>\n",
       "      <th>southamerica</th>\n",
       "      <td>4.666667</td>\n",
       "      <td>0.566667</td>\n",
       "      <td>3.766667</td>\n",
       "    </tr>\n",
       "  </tbody>\n",
       "</table>\n",
       "</div>"
      ],
      "text/plain": [
       "                 favor     contra     puntos\n",
       "continent                                   \n",
       "africa        3.300000   4.800000   3.300000\n",
       "asia          0.916667   4.250000   0.250000\n",
       "europe        6.858974   3.833333   6.897436\n",
       "northamerica  2.250000  11.000000  11.000000\n",
       "southamerica  4.666667   0.566667   3.766667"
      ]
     },
     "execution_count": 5,
     "metadata": {},
     "output_type": "execute_result"
    }
   ],
   "source": [
    "df.groupby([\"continent\"]).agg(favor=(\"goles_favor\",\"var\"), contra=(\"goles_contra\", \"var\"), puntos= (\"puntos\", \"var\"))"
   ]
  },
  {
   "cell_type": "markdown",
   "id": "44af0e84",
   "metadata": {},
   "source": [
    "## Desviación estandar"
   ]
  },
  {
   "cell_type": "code",
   "execution_count": 6,
   "id": "482c1aa0",
   "metadata": {},
   "outputs": [
    {
     "data": {
      "text/html": [
       "<div>\n",
       "<style scoped>\n",
       "    .dataframe tbody tr th:only-of-type {\n",
       "        vertical-align: middle;\n",
       "    }\n",
       "\n",
       "    .dataframe tbody tr th {\n",
       "        vertical-align: top;\n",
       "    }\n",
       "\n",
       "    .dataframe thead th {\n",
       "        text-align: right;\n",
       "    }\n",
       "</style>\n",
       "<table border=\"1\" class=\"dataframe\">\n",
       "  <thead>\n",
       "    <tr style=\"text-align: right;\">\n",
       "      <th></th>\n",
       "      <th>favor</th>\n",
       "      <th>contra</th>\n",
       "      <th>puntos</th>\n",
       "    </tr>\n",
       "    <tr>\n",
       "      <th>continent</th>\n",
       "      <th></th>\n",
       "      <th></th>\n",
       "      <th></th>\n",
       "    </tr>\n",
       "  </thead>\n",
       "  <tbody>\n",
       "    <tr>\n",
       "      <th>africa</th>\n",
       "      <td>1.816590</td>\n",
       "      <td>2.190890</td>\n",
       "      <td>1.816590</td>\n",
       "    </tr>\n",
       "    <tr>\n",
       "      <th>asia</th>\n",
       "      <td>0.957427</td>\n",
       "      <td>2.061553</td>\n",
       "      <td>0.500000</td>\n",
       "    </tr>\n",
       "    <tr>\n",
       "      <th>europe</th>\n",
       "      <td>2.618964</td>\n",
       "      <td>1.957890</td>\n",
       "      <td>2.626297</td>\n",
       "    </tr>\n",
       "    <tr>\n",
       "      <th>northamerica</th>\n",
       "      <td>1.500000</td>\n",
       "      <td>3.316625</td>\n",
       "      <td>3.316625</td>\n",
       "    </tr>\n",
       "    <tr>\n",
       "      <th>southamerica</th>\n",
       "      <td>2.160247</td>\n",
       "      <td>0.752773</td>\n",
       "      <td>1.940790</td>\n",
       "    </tr>\n",
       "  </tbody>\n",
       "</table>\n",
       "</div>"
      ],
      "text/plain": [
       "                 favor    contra    puntos\n",
       "continent                                 \n",
       "africa        1.816590  2.190890  1.816590\n",
       "asia          0.957427  2.061553  0.500000\n",
       "europe        2.618964  1.957890  2.626297\n",
       "northamerica  1.500000  3.316625  3.316625\n",
       "southamerica  2.160247  0.752773  1.940790"
      ]
     },
     "execution_count": 6,
     "metadata": {},
     "output_type": "execute_result"
    }
   ],
   "source": [
    "df.groupby([\"continent\"]).agg(favor=(\"goles_favor\",\"std\"), contra=(\"goles_contra\", \"std\"), puntos= (\"puntos\", \"std\"))"
   ]
  },
  {
   "cell_type": "markdown",
   "id": "6043c5ee",
   "metadata": {},
   "source": [
    "## ¿En qué continente se observa una mayor cantidad de goles a favor?\n",
    "### southamerica\n",
    "\n",
    "## ¿En qué continente se observa una mayor cantidad de goles en contra?\n",
    "### asia\n",
    "\n",
    "## ¿En qué continente se observa una mayor cantidad de puntos en promedio?\n",
    "### southamerica"
   ]
  },
  {
   "cell_type": "markdown",
   "id": "0616519f",
   "metadata": {},
   "source": [
    "# Desafio 3"
   ]
  },
  {
   "cell_type": "code",
   "execution_count": 15,
   "id": "3e104ad4",
   "metadata": {},
   "outputs": [],
   "source": [
    "def generate_pet(x):\n",
    "    pet=[]\n",
    "    for i in range(x):\n",
    "        pet.append(np.random.choice(['Gato', 'Perro']))\n",
    "    return pet"
   ]
  },
  {
   "cell_type": "code",
   "execution_count": 62,
   "id": "d0227919",
   "metadata": {},
   "outputs": [],
   "source": [
    "x=20\n",
    "pet=generate_pet(x)\n",
    "mediaperro=pet.count(\"Perro\")/x\n",
    "mediagato=pet.count(\"Gato\")/x"
   ]
  },
  {
   "cell_type": "code",
   "execution_count": 63,
   "id": "6a630d69",
   "metadata": {},
   "outputs": [
    {
     "data": {
      "text/plain": [
       "['Gato',\n",
       " 'Gato',\n",
       " 'Perro',\n",
       " 'Gato',\n",
       " 'Perro',\n",
       " 'Gato',\n",
       " 'Gato',\n",
       " 'Gato',\n",
       " 'Gato',\n",
       " 'Gato',\n",
       " 'Gato',\n",
       " 'Gato',\n",
       " 'Gato',\n",
       " 'Gato',\n",
       " 'Gato',\n",
       " 'Perro',\n",
       " 'Gato',\n",
       " 'Perro',\n",
       " 'Gato',\n",
       " 'Gato']"
      ]
     },
     "execution_count": 63,
     "metadata": {},
     "output_type": "execute_result"
    }
   ],
   "source": [
    "pet"
   ]
  },
  {
   "cell_type": "markdown",
   "id": "29765ab4",
   "metadata": {},
   "source": [
    "### Probabilidad de que sea perro"
   ]
  },
  {
   "cell_type": "code",
   "execution_count": 64,
   "id": "6cf10e69",
   "metadata": {},
   "outputs": [
    {
     "data": {
      "text/plain": [
       "0.2"
      ]
     },
     "execution_count": 64,
     "metadata": {},
     "output_type": "execute_result"
    }
   ],
   "source": [
    "mediaperro"
   ]
  },
  {
   "cell_type": "markdown",
   "id": "c9b86db8",
   "metadata": {},
   "source": [
    "### Probabilidad de que sea gato"
   ]
  },
  {
   "cell_type": "code",
   "execution_count": 65,
   "id": "fc38cada",
   "metadata": {},
   "outputs": [
    {
     "data": {
      "text/plain": [
       "0.8"
      ]
     },
     "execution_count": 65,
     "metadata": {},
     "output_type": "execute_result"
    }
   ],
   "source": [
    "mediagato"
   ]
  },
  {
   "cell_type": "code",
   "execution_count": 66,
   "id": "c928a7e7",
   "metadata": {},
   "outputs": [],
   "source": [
    "np.random.seed(2)\n",
    "petseed=generate_pet(x)"
   ]
  },
  {
   "cell_type": "code",
   "execution_count": 73,
   "id": "4caca3ee",
   "metadata": {},
   "outputs": [
    {
     "data": {
      "text/plain": [
       "['Gato',\n",
       " 'Perro',\n",
       " 'Perro',\n",
       " 'Gato',\n",
       " 'Gato',\n",
       " 'Perro',\n",
       " 'Gato',\n",
       " 'Perro',\n",
       " 'Gato',\n",
       " 'Perro',\n",
       " 'Gato',\n",
       " 'Perro',\n",
       " 'Perro',\n",
       " 'Perro',\n",
       " 'Perro',\n",
       " 'Perro',\n",
       " 'Perro',\n",
       " 'Perro',\n",
       " 'Gato',\n",
       " 'Gato']"
      ]
     },
     "execution_count": 73,
     "metadata": {},
     "output_type": "execute_result"
    }
   ],
   "source": [
    "petseed"
   ]
  },
  {
   "cell_type": "code",
   "execution_count": 55,
   "id": "f5e43393",
   "metadata": {},
   "outputs": [
    {
     "data": {
      "text/plain": [
       "12"
      ]
     },
     "execution_count": 55,
     "metadata": {},
     "output_type": "execute_result"
    }
   ],
   "source": [
    "petseed.count(\"Perro\")"
   ]
  },
  {
   "cell_type": "markdown",
   "id": "5c1a3b02",
   "metadata": {},
   "source": [
    "### Al usar la seed se tiene la misma lista en cada ejecucion"
   ]
  },
  {
   "cell_type": "markdown",
   "id": "5d5215a2",
   "metadata": {},
   "source": [
    "# Desafio 4"
   ]
  },
  {
   "cell_type": "code",
   "execution_count": 100,
   "id": "fc9c7eab",
   "metadata": {},
   "outputs": [],
   "source": [
    "def simulate_pets_prob(n):\n",
    "    np.random.seed(1)\n",
    "    al_menos_un_perro=0\n",
    "    old_pet_perro=0\n",
    "    dos_perros=0\n",
    "    for i in range(x):\n",
    "        young_pet=np.random.choice(['Gato', 'Perro'])\n",
    "        old_pet=np.random.choice(['Gato', 'Perro'])\n",
    "        if young_pet==\"Perro\" or old_pet==\"Perro\":\n",
    "            al_menos_un_perro+=1\n",
    "        if old_pet==\"Perro\":\n",
    "            old_pet_perro+=1\n",
    "        if young_pet==\"Perro\" and old_pet==\"Perro\":\n",
    "            dos_perros+=1\n",
    "    print(\"Probabilidad de que sale al menos un perro: \",al_menos_un_perro/x)\n",
    "    print(\"Probabilidad de que sale un perro viejo: \",old_pet_perro/x)\n",
    "    print(\"Probabilidad de que salen dos perros: \",dos_perros/x)"
   ]
  },
  {
   "cell_type": "code",
   "execution_count": 101,
   "id": "00180b14",
   "metadata": {},
   "outputs": [
    {
     "name": "stdout",
     "output_type": "stream",
     "text": [
      "Probabilidad de que sale al menos un perro:  0.7\n",
      "Probabilidad de que sale un perro viejo:  0.45\n",
      "Probabilidad de que salen dos perros:  0.25\n"
     ]
    }
   ],
   "source": [
    "simulate_pets_prob(10)"
   ]
  },
  {
   "cell_type": "markdown",
   "id": "7f633909",
   "metadata": {},
   "source": [
    "## ¿Cuál es el menos probable? \n",
    "### Que salgan dos perros\n",
    "\n",
    "## ¿Cuál es el más probable?\n",
    "### Que salga al menos un perro\n",
    "\n",
    "## ¿Por qué?\n",
    "### Dado que en la simulación se repitió menos veces el caso de que salgan dos perros y se repitió más veces el caso que sale al menos un perro"
   ]
  }
 ],
 "metadata": {
  "kernelspec": {
   "display_name": "Python 3",
   "language": "python",
   "name": "python3"
  },
  "language_info": {
   "codemirror_mode": {
    "name": "ipython",
    "version": 3
   },
   "file_extension": ".py",
   "mimetype": "text/x-python",
   "name": "python",
   "nbconvert_exporter": "python",
   "pygments_lexer": "ipython3",
   "version": "3.8.8"
  }
 },
 "nbformat": 4,
 "nbformat_minor": 5
}
