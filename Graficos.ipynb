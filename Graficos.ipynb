{
 "cells": [
  {
   "cell_type": "markdown",
   "id": "421bb134",
   "metadata": {},
   "source": [
    "# Desafio 1"
   ]
  },
  {
   "cell_type": "code",
   "execution_count": 129,
   "id": "f833c129",
   "metadata": {},
   "outputs": [],
   "source": [
    "import pandas as pd\n",
    "import numpy as np\n",
    "import matplotlib.pyplot as plt\n",
    "df = pd.read_csv(\"qog_std_cs_jan18.csv\")\n",
    "np.random.seed(6682)\n",
    "nw = df.loc[:,[\"undp_hdi\",\"ccodealp\",\"ht_region\",\"gle_cgdpc\",\"imf_pop\",\"wef_imort\",\"who_alc2000\",\"who_tobt\",\"wdi_exph\"]]\n",
    "nw = nw.sample(frac=0.5)\n",
    "nw[\"ht_region\"]=nw[\"ht_region\"].map({1:\"EastEurope\",2:\"LatAm\",3:\"NorthAfrica\",4:\"SubSaharian\",5:\"WesternDem\",6:\"EastAsia\", 7:\"SouthEastAsia\", 8:\"SouthAsia\", 9: \"Pacific\",10:\"Caribbean\"})"
   ]
  },
  {
   "cell_type": "code",
   "execution_count": 130,
   "id": "3c1d9f7b",
   "metadata": {},
   "outputs": [
    {
     "data": {
      "text/html": [
       "<div>\n",
       "<style scoped>\n",
       "    .dataframe tbody tr th:only-of-type {\n",
       "        vertical-align: middle;\n",
       "    }\n",
       "\n",
       "    .dataframe tbody tr th {\n",
       "        vertical-align: top;\n",
       "    }\n",
       "\n",
       "    .dataframe thead th {\n",
       "        text-align: right;\n",
       "    }\n",
       "</style>\n",
       "<table border=\"1\" class=\"dataframe\">\n",
       "  <thead>\n",
       "    <tr style=\"text-align: right;\">\n",
       "      <th></th>\n",
       "      <th>undp_hdi</th>\n",
       "      <th>ccodealp</th>\n",
       "      <th>ht_region</th>\n",
       "      <th>gle_cgdpc</th>\n",
       "      <th>imf_pop</th>\n",
       "      <th>wef_imort</th>\n",
       "      <th>who_alc2000</th>\n",
       "      <th>who_tobt</th>\n",
       "      <th>wdi_exph</th>\n",
       "    </tr>\n",
       "  </thead>\n",
       "  <tbody>\n",
       "    <tr>\n",
       "      <th>127</th>\n",
       "      <td>0.948</td>\n",
       "      <td>NOR</td>\n",
       "      <td>WesternDem</td>\n",
       "      <td>57634.77000</td>\n",
       "      <td>5.156000</td>\n",
       "      <td>2.200000</td>\n",
       "      <td>6.06</td>\n",
       "      <td>24.100000</td>\n",
       "      <td>9.719718</td>\n",
       "    </tr>\n",
       "    <tr>\n",
       "      <th>125</th>\n",
       "      <td>0.351</td>\n",
       "      <td>NER</td>\n",
       "      <td>SubSaharian</td>\n",
       "      <td>644.53998</td>\n",
       "      <td>NaN</td>\n",
       "      <td>NaN</td>\n",
       "      <td>0.15</td>\n",
       "      <td>8.400000</td>\n",
       "      <td>5.821299</td>\n",
       "    </tr>\n",
       "    <tr>\n",
       "      <th>38</th>\n",
       "      <td>0.724</td>\n",
       "      <td>COL</td>\n",
       "      <td>LatAm</td>\n",
       "      <td>8761.13960</td>\n",
       "      <td>47.661999</td>\n",
       "      <td>15.100000</td>\n",
       "      <td>4.38</td>\n",
       "      <td>11.600000</td>\n",
       "      <td>7.201299</td>\n",
       "    </tr>\n",
       "    <tr>\n",
       "      <th>51</th>\n",
       "      <td>0.739</td>\n",
       "      <td>ECU</td>\n",
       "      <td>LatAm</td>\n",
       "      <td>7259.52000</td>\n",
       "      <td>15.775000</td>\n",
       "      <td>19.100000</td>\n",
       "      <td>3.82</td>\n",
       "      <td>9.000000</td>\n",
       "      <td>9.161088</td>\n",
       "    </tr>\n",
       "    <tr>\n",
       "      <th>185</th>\n",
       "      <td>0.519</td>\n",
       "      <td>TZA</td>\n",
       "      <td>SubSaharian</td>\n",
       "      <td>1416.30000</td>\n",
       "      <td>43.880001</td>\n",
       "      <td>37.700001</td>\n",
       "      <td>4.20</td>\n",
       "      <td>16.299999</td>\n",
       "      <td>5.580116</td>\n",
       "    </tr>\n",
       "    <tr>\n",
       "      <th>...</th>\n",
       "      <td>...</td>\n",
       "      <td>...</td>\n",
       "      <td>...</td>\n",
       "      <td>...</td>\n",
       "      <td>...</td>\n",
       "      <td>...</td>\n",
       "      <td>...</td>\n",
       "      <td>...</td>\n",
       "      <td>...</td>\n",
       "    </tr>\n",
       "    <tr>\n",
       "      <th>94</th>\n",
       "      <td>0.763</td>\n",
       "      <td>LBN</td>\n",
       "      <td>NorthAfrica</td>\n",
       "      <td>14711.97000</td>\n",
       "      <td>4.383000</td>\n",
       "      <td>8.000000</td>\n",
       "      <td>1.32</td>\n",
       "      <td>37.000000</td>\n",
       "      <td>6.393709</td>\n",
       "    </tr>\n",
       "    <tr>\n",
       "      <th>106</th>\n",
       "      <td>0.438</td>\n",
       "      <td>MLI</td>\n",
       "      <td>SubSaharian</td>\n",
       "      <td>1063.26000</td>\n",
       "      <td>14.854000</td>\n",
       "      <td>79.599998</td>\n",
       "      <td>0.61</td>\n",
       "      <td>18.600000</td>\n",
       "      <td>6.862166</td>\n",
       "    </tr>\n",
       "    <tr>\n",
       "      <th>171</th>\n",
       "      <td>0.738</td>\n",
       "      <td>THA</td>\n",
       "      <td>SouthEastAsia</td>\n",
       "      <td>9295.57030</td>\n",
       "      <td>68.656998</td>\n",
       "      <td>11.400000</td>\n",
       "      <td>6.41</td>\n",
       "      <td>21.500000</td>\n",
       "      <td>4.122164</td>\n",
       "    </tr>\n",
       "    <tr>\n",
       "      <th>11</th>\n",
       "      <td>0.823</td>\n",
       "      <td>BHR</td>\n",
       "      <td>NorthAfrica</td>\n",
       "      <td>22498.48000</td>\n",
       "      <td>1.268000</td>\n",
       "      <td>8.200000</td>\n",
       "      <td>1.57</td>\n",
       "      <td>30.299999</td>\n",
       "      <td>4.980796</td>\n",
       "    </tr>\n",
       "    <tr>\n",
       "      <th>177</th>\n",
       "      <td>0.764</td>\n",
       "      <td>TUR</td>\n",
       "      <td>NorthAfrica</td>\n",
       "      <td>16900.71100</td>\n",
       "      <td>77.695999</td>\n",
       "      <td>12.200000</td>\n",
       "      <td>1.45</td>\n",
       "      <td>27.000000</td>\n",
       "      <td>5.414959</td>\n",
       "    </tr>\n",
       "  </tbody>\n",
       "</table>\n",
       "<p>97 rows × 9 columns</p>\n",
       "</div>"
      ],
      "text/plain": [
       "     undp_hdi ccodealp      ht_region    gle_cgdpc    imf_pop  wef_imort  \\\n",
       "127     0.948      NOR     WesternDem  57634.77000   5.156000   2.200000   \n",
       "125     0.351      NER    SubSaharian    644.53998        NaN        NaN   \n",
       "38      0.724      COL          LatAm   8761.13960  47.661999  15.100000   \n",
       "51      0.739      ECU          LatAm   7259.52000  15.775000  19.100000   \n",
       "185     0.519      TZA    SubSaharian   1416.30000  43.880001  37.700001   \n",
       "..        ...      ...            ...          ...        ...        ...   \n",
       "94      0.763      LBN    NorthAfrica  14711.97000   4.383000   8.000000   \n",
       "106     0.438      MLI    SubSaharian   1063.26000  14.854000  79.599998   \n",
       "171     0.738      THA  SouthEastAsia   9295.57030  68.656998  11.400000   \n",
       "11      0.823      BHR    NorthAfrica  22498.48000   1.268000   8.200000   \n",
       "177     0.764      TUR    NorthAfrica  16900.71100  77.695999  12.200000   \n",
       "\n",
       "     who_alc2000   who_tobt  wdi_exph  \n",
       "127         6.06  24.100000  9.719718  \n",
       "125         0.15   8.400000  5.821299  \n",
       "38          4.38  11.600000  7.201299  \n",
       "51          3.82   9.000000  9.161088  \n",
       "185         4.20  16.299999  5.580116  \n",
       "..           ...        ...       ...  \n",
       "94          1.32  37.000000  6.393709  \n",
       "106         0.61  18.600000  6.862166  \n",
       "171         6.41  21.500000  4.122164  \n",
       "11          1.57  30.299999  4.980796  \n",
       "177         1.45  27.000000  5.414959  \n",
       "\n",
       "[97 rows x 9 columns]"
      ]
     },
     "execution_count": 130,
     "metadata": {},
     "output_type": "execute_result"
    }
   ],
   "source": [
    "nw"
   ]
  },
  {
   "cell_type": "markdown",
   "id": "4a13024d",
   "metadata": {},
   "source": [
    "# Desafio 2"
   ]
  },
  {
   "cell_type": "code",
   "execution_count": 131,
   "id": "0393c947",
   "metadata": {},
   "outputs": [
    {
     "name": "stdout",
     "output_type": "stream",
     "text": [
      "Frecuencia de:  ht_region\n",
      "Caribbean         5\n",
      "EastAsia          3\n",
      "EastEurope       13\n",
      "LatAm             6\n",
      "NorthAfrica      16\n",
      "Pacific           4\n",
      "SouthAsia         6\n",
      "SouthEastAsia     4\n",
      "SubSaharian      28\n",
      "WesternDem       12\n",
      "dtype: int64\n",
      "Media de undp_hdi:  0.685978496451613 variabilidad:  0.024251783144962912\n",
      "Media de gle_cgdpc:  13248.456524020614 variabilidad:  280265098.8353038\n",
      "Media de imf_pop:  32.53905485800072 variabilidad:  2422.158494365315\n",
      "Media de wef_imort:  26.80759491799753 variabilidad:  637.2043058994808\n",
      "Media de who_alc2000:  4.6923913210282615 variabilidad:  14.735255842683188\n",
      "Media de who_tobt:  22.609374989062502 variabilidad:  87.41102438624065\n",
      "Media de wdi_exph:  6.414790831114116 variabilidad:  6.419334208537655\n"
     ]
    }
   ],
   "source": [
    "def med_desp(df):\n",
    "    print(\"Frecuencia de: \",df.groupby(\"ht_region\").size())\n",
    "    print(\"Media de undp_hdi: \", df[\"undp_hdi\"].mean(), \"variabilidad: \", df[\"undp_hdi\"].var())\n",
    "    print(\"Media de gle_cgdpc: \", df[\"gle_cgdpc\"].mean(), \"variabilidad: \", df[\"gle_cgdpc\"].var())\n",
    "    print(\"Media de imf_pop: \", df[\"imf_pop\"].mean(), \"variabilidad: \", df[\"imf_pop\"].var())\n",
    "    print(\"Media de wef_imort: \", df[\"wef_imort\"].mean(), \"variabilidad: \", df[\"wef_imort\"].var())\n",
    "    print(\"Media de who_alc2000: \", df[\"who_alc2000\"].mean(), \"variabilidad: \", df[\"who_alc2000\"].var())\n",
    "    print(\"Media de who_tobt: \", df[\"who_tobt\"].mean(), \"variabilidad: \", df[\"who_tobt\"].var())\n",
    "    print(\"Media de wdi_exph: \", df[\"wdi_exph\"].mean(), \"variabilidad: \", df[\"wdi_exph\"].var())\n",
    "\n",
    "med_desp(nw)"
   ]
  },
  {
   "cell_type": "markdown",
   "id": "bc8f09d3",
   "metadata": {},
   "source": [
    "##### Media de gle_cgdpc:  13248.456524020614 variabilidad:  280265098.8353038\n",
    "##### Media de undp_hdi:  0.685978496451613 variabilidad:  0.024251783144962912\n",
    "##### Media de imf_pop:  32.53905485800072 variabilidad:  2422.158494365315\n",
    "\n",
    "## Comparación\n"
   ]
  },
  {
   "cell_type": "markdown",
   "id": "fd9e8235",
   "metadata": {},
   "source": [
    "# Desafio 3"
   ]
  },
  {
   "cell_type": "code",
   "execution_count": 202,
   "id": "73ed1544",
   "metadata": {},
   "outputs": [
    {
     "name": "stdout",
     "output_type": "stream",
     "text": [
      "undp_hdi\n",
      "count    93.000000\n",
      "mean      0.685978\n",
      "std       0.155730\n",
      "min       0.351000\n",
      "25%       0.550000\n",
      "50%       0.723000\n",
      "75%       0.799000\n",
      "max       0.948000\n",
      "Name: undp_hdi, dtype: float64\n",
      "Porcentaje de perdidas de undp_hdi :  4.123711340206185%\n",
      "gle_cgdpc\n",
      "count        97.000000\n",
      "mean      13248.456524\n",
      "std       16741.119999\n",
      "min         644.539980\n",
      "25%        2246.820100\n",
      "50%        7148.569800\n",
      "75%       18310.811000\n",
      "max      108481.130000\n",
      "Name: gle_cgdpc, dtype: float64\n",
      "Porcentaje de perdidas de gle_cgdpc :  0.0%\n",
      "imf_pop\n",
      "count     73.000000\n",
      "mean      32.539055\n",
      "std       49.215429\n",
      "min        0.018000\n",
      "25%        2.932000\n",
      "50%       10.401000\n",
      "75%       40.700001\n",
      "max      252.164993\n",
      "Name: imf_pop, dtype: float64\n",
      "Porcentaje de perdidas de imf_pop :  24.742268041237114%\n",
      "wef_imort\n",
      "count    79.000000\n",
      "mean     26.807595\n",
      "std      25.242906\n",
      "min       1.700000\n",
      "25%       5.700000\n",
      "50%      17.799999\n",
      "75%      44.500000\n",
      "max      99.500000\n",
      "Name: wef_imort, dtype: float64\n",
      "Porcentaje de perdidas de wef_imort :  18.556701030927837%\n",
      "who_alc2000\n",
      "count    92.000000\n",
      "mean      4.692391\n",
      "std       3.838653\n",
      "min       0.000000\n",
      "25%       0.932500\n",
      "50%       4.125000\n",
      "75%       7.745000\n",
      "max      15.190000\n",
      "Name: who_alc2000, dtype: float64\n",
      "Porcentaje de perdidas de who_alc2000 :  5.154639175257732%\n",
      "who_tobt\n",
      "count    64.000000\n",
      "mean     22.609375\n",
      "std       9.349386\n",
      "min       4.700000\n",
      "25%      15.625000\n",
      "50%      22.600000\n",
      "75%      29.700000\n",
      "max      43.400002\n",
      "Name: who_tobt, dtype: float64\n",
      "Porcentaje de perdidas de who_tobt :  34.02061855670103%\n",
      "wdi_exph\n",
      "count    95.000000\n",
      "mean      6.414791\n",
      "std       2.533641\n",
      "min       2.067386\n",
      "25%       4.697537\n",
      "50%       5.907778\n",
      "75%       7.805775\n",
      "max      17.135723\n",
      "Name: wdi_exph, dtype: float64\n",
      "Porcentaje de perdidas de wdi_exph :  2.0618556701030926%\n"
     ]
    },
    {
     "data": {
      "text/plain": [
       "[2, '2.0618556701030926%']"
      ]
     },
     "execution_count": 202,
     "metadata": {},
     "output_type": "execute_result"
    }
   ],
   "source": [
    "def perdida(dataframe, var, print_list=False):\n",
    "    cant= dataframe[var].isna().sum()\n",
    "    porcen= str(cant*100/len(dataframe))+\"%\"\n",
    "    if print_list:\n",
    "        print(var)\n",
    "        print(dataframe[var].describe())\n",
    "        print(\"Porcentaje de perdidas de\",var,\": \",porcen)\n",
    "    return [cant, porcen]\n",
    "\n",
    "perdida(nw, \"undp_hdi\",True)\n",
    "perdida(nw, \"gle_cgdpc\",True)\n",
    "perdida(nw, \"imf_pop\",True)\n",
    "perdida(nw, \"wef_imort\",True)\n",
    "perdida(nw, \"who_alc2000\",True)\n",
    "perdida(nw, \"who_tobt\",True)\n",
    "perdida(nw, \"wdi_exph\",True)"
   ]
  },
  {
   "cell_type": "raw",
   "id": "92bbf88c",
   "metadata": {},
   "source": [
    "-gle_cgdpc\n",
    "Gina Ozimisa\n",
    "count        97.000000\n",
    "mean      13248.456524\n",
    "std       16741.119999\n",
    "min         644.539980\n",
    "25%        2246.820100\n",
    "50%        7148.569800\n",
    "75%       18310.811000\n",
    "max      108481.130000\n",
    "\n",
    "Neria Paillamilla\n",
    "count        96.000000\n",
    "mean      15041.407793\n",
    "std       19065.852433\n",
    "min         332.269990\n",
    "25%        2645.900025\n",
    "50%        8895.515150\n",
    "75%       19295.501500\n",
    "max      108481.130000\n",
    "\n",
    "-imf_pop\n",
    "Gina Ozimisa\n",
    "count     73.000000\n",
    "mean      32.539055\n",
    "std       49.215429\n",
    "min        0.018000\n",
    "25%        2.932000\n",
    "50%       10.401000\n",
    "75%       40.700001\n",
    "max      252.164993\n",
    "\n",
    "Neria Paillamilla\n",
    "count     75.000000\n",
    "mean      30.812560\n",
    "std       53.341334\n",
    "min        0.012000\n",
    "25%        3.150500\n",
    "50%        6.929000\n",
    "75%       37.809000\n",
    "max      318.789001\n",
    "\n",
    "-undp_hdi\n",
    "Gina Ozimisa\n",
    "count    93.000000\n",
    "mean      0.685978\n",
    "std       0.155730\n",
    "min       0.351000\n",
    "25%       0.550000\n",
    "50%       0.723000\n",
    "75%       0.799000\n",
    "max       0.948000\n",
    "\n",
    "Neria Paillamilla\n",
    "count    93.000000\n",
    "mean      0.707699\n",
    "std       0.150144\n",
    "min       0.399000\n",
    "25%       0.586000\n",
    "50%       0.734000\n",
    "75%       0.826000\n",
    "max       0.948000\n"
   ]
  },
  {
   "cell_type": "markdown",
   "id": "5e9d152b",
   "metadata": {},
   "source": [
    "#### No se aprecia mucha diferencia, de hecho, las medias y varianzas son valores muy cercanos"
   ]
  },
  {
   "cell_type": "code",
   "execution_count": 133,
   "id": "c4c66c04",
   "metadata": {},
   "outputs": [
    {
     "data": {
      "text/plain": [
       "192    YEM\n",
       "105    MDV\n",
       "91     KWT\n",
       "70     GIN\n",
       "169    SYR\n",
       "26     BDI\n",
       "149    STP\n",
       "144    RWA\n",
       "4      AGO\n",
       "178    TKM\n",
       "34     TCD\n",
       "71     GUY\n",
       "159    SOM\n",
       "63     GMB\n",
       "175    ARE\n",
       "79     IRQ\n",
       "61     GAB\n",
       "135    PER\n",
       "89     PRK\n",
       "98     LBY\n",
       "161    ZWE\n",
       "174    TTO\n",
       "68     GRD\n",
       "111    MCO\n",
       "55     ERI\n",
       "5      ATG\n",
       "165    SUR\n",
       "45     CYP\n",
       "130    PLW\n",
       "22     SLB\n",
       "83     CIV\n",
       "129    MHL\n",
       "16     BTN\n",
       "Name: ccodealp, dtype: object"
      ]
     },
     "execution_count": 133,
     "metadata": {},
     "output_type": "execute_result"
    }
   ],
   "source": [
    "nw[nw[\"who_tobt\"].isna()][\"ccodealp\"]"
   ]
  },
  {
   "cell_type": "code",
   "execution_count": 134,
   "id": "ada0aec9",
   "metadata": {},
   "outputs": [
    {
     "data": {
      "text/plain": [
       "125    NER\n",
       "29     CMR\n",
       "192    YEM\n",
       "76     IND\n",
       "169    SYR\n",
       "26     BDI\n",
       "149    STP\n",
       "178    TKM\n",
       "34     TCD\n",
       "151    SEN\n",
       "159    SOM\n",
       "63     GMB\n",
       "175    ARE\n",
       "61     GAB\n",
       "89     PRK\n",
       "68     GRD\n",
       "73     HND\n",
       "95     LSO\n",
       "111    MCO\n",
       "55     ERI\n",
       "5      ATG\n",
       "40     COG\n",
       "65     GHA\n",
       "3      AND\n",
       "Name: ccodealp, dtype: object"
      ]
     },
     "execution_count": 134,
     "metadata": {},
     "output_type": "execute_result"
    }
   ],
   "source": [
    "nw[nw[\"imf_pop\"].isna()][\"ccodealp\"]"
   ]
  },
  {
   "cell_type": "code",
   "execution_count": 135,
   "id": "63e66b7d",
   "metadata": {},
   "outputs": [
    {
     "data": {
      "text/plain": [
       "125    NER\n",
       "105    MDV\n",
       "149    STP\n",
       "178    TKM\n",
       "159    SOM\n",
       "79     IRQ\n",
       "57     FJI\n",
       "89     PRK\n",
       "68     GRD\n",
       "111    MCO\n",
       "55     ERI\n",
       "5      ATG\n",
       "40     COG\n",
       "130    PLW\n",
       "22     SLB\n",
       "189    UZB\n",
       "3      AND\n",
       "129    MHL\n",
       "Name: ccodealp, dtype: object"
      ]
     },
     "execution_count": 135,
     "metadata": {},
     "output_type": "execute_result"
    }
   ],
   "source": [
    "nw[nw[\"wef_imort\"].isna()][\"ccodealp\"]"
   ]
  },
  {
   "cell_type": "markdown",
   "id": "0e83f961",
   "metadata": {},
   "source": [
    "# Desafio 4"
   ]
  },
  {
   "cell_type": "code",
   "execution_count": 149,
   "id": "695ae46d",
   "metadata": {},
   "outputs": [
    {
     "data": {
      "image/png": "[encoded data removed]",
      "text/plain": [
       "<Figure size 432x288 with 1 Axes>"
      ]
     },
     "metadata": {
      "needs_background": "light"
     },
     "output_type": "display_data"
    }
   ],
   "source": [
    "def graficar_media(sample_df, full_df ,var ,sample_mean=False, true_mean=True):\n",
    "    datavar=sample_df[var].dropna()\n",
    "    datapobl=full_df[var].dropna()\n",
    "    plt.hist(datavar)\n",
    "    if sample_mean:\n",
    "        plt.axvline(datavar.mean(), lw=3, color=\"tomato\", linestyle=\"--\")\n",
    "    if true_mean:\n",
    "        plt.axvline(datapobl.mean(), lw=3, color=\"blue\", linestyle=\"--\")\n",
    "        \n",
    "graficar_media(nw,df,\"wef_imort\",True)"
   ]
  },
  {
   "cell_type": "code",
   "execution_count": 190,
   "id": "3c334b00",
   "metadata": {},
   "outputs": [
    {
     "data": {
      "image/png": "[encoded data removed]",
      "text/plain": [
       "<Figure size 432x288 with 1 Axes>"
      ]
     },
     "metadata": {
      "needs_background": "light"
     },
     "output_type": "display_data"
    }
   ],
   "source": [
    "graficar_media(nw,df,\"who_alc2000\",True)"
   ]
  },
  {
   "cell_type": "code",
   "execution_count": 191,
   "id": "769b74b1",
   "metadata": {},
   "outputs": [
    {
     "data": {
      "image/png": "[encoded data removed]",
      "text/plain": [
       "<Figure size 432x288 with 1 Axes>"
      ]
     },
     "metadata": {
      "needs_background": "light"
     },
     "output_type": "display_data"
    }
   ],
   "source": [
    "graficar_media(nw,df,\"who_tobt\",True)"
   ]
  },
  {
   "cell_type": "code",
   "execution_count": 192,
   "id": "6369e78e",
   "metadata": {},
   "outputs": [
    {
     "data": {
      "image/png": "[encoded data removed]",
      "text/plain": [
       "<Figure size 432x288 with 1 Axes>"
      ]
     },
     "metadata": {
      "needs_background": "light"
     },
     "output_type": "display_data"
    }
   ],
   "source": [
    "graficar_media(nw,df,\"wdi_exph\",True)"
   ]
  },
  {
   "cell_type": "markdown",
   "id": "5b199608",
   "metadata": {},
   "source": [
    "#### En este caso (linea roja-> media del muestreo, linea azul-> media de la población) no hay ninguna media"
   ]
  },
  {
   "cell_type": "markdown",
   "id": "01658888",
   "metadata": {},
   "source": [
    "# Desafio 5"
   ]
  },
  {
   "cell_type": "code",
   "execution_count": 185,
   "id": "644f3434",
   "metadata": {},
   "outputs": [
    {
     "data": {
      "image/png": "[encoded data removed]",
      "text/plain": [
       "<Figure size 432x288 with 1 Axes>"
      ]
     },
     "metadata": {
      "needs_background": "light"
     },
     "output_type": "display_data"
    }
   ],
   "source": [
    "def dotplot(dataframe,plot_var,plot_by,statistic=\"mean\",global_stat=False):\n",
    "    data=dataframe.groupby(plot_by)[plot_var]\n",
    "    if statistic==\"mean\":\n",
    "        data_values=data.mean()\n",
    "    if statistic==\"median\":\n",
    "        data_values=data.median()\n",
    "    plt.plot(data_values.values, data_values.index, \"o\")\n",
    "    if global_stat==True:\n",
    "        if statistic==\"mean\":\n",
    "            plt.axvline(dataframe[plot_var].mean(), lw=3, color=\"tomato\", linestyle=\"--\")\n",
    "        if statistic==\"median\":\n",
    "            plt.axvline(dataframe[plot_var].median(), lw=3, color=\"tomato\", linestyle=\"--\")\n",
    "        \n",
    "dotplot(nw,\"who_tobt\",\"ht_region\",\"mean\",True)"
   ]
  },
  {
   "cell_type": "code",
   "execution_count": 163,
   "id": "7aeddd42",
   "metadata": {},
   "outputs": [
    {
     "data": {
      "image/png": "[encoded data removed]",
      "text/plain": [
       "<Figure size 432x288 with 1 Axes>"
      ]
     },
     "metadata": {
      "needs_background": "light"
     },
     "output_type": "display_data"
    }
   ],
   "source": [
    "dotplot(nw,\"imf_pop\",\"ht_region\")"
   ]
  },
  {
   "cell_type": "code",
   "execution_count": 164,
   "id": "4262593f",
   "metadata": {},
   "outputs": [
    {
     "data": {
      "image/png": "[encoded data removed]",
      "text/plain": [
       "<Figure size 432x288 with 1 Axes>"
      ]
     },
     "metadata": {
      "needs_background": "light"
     },
     "output_type": "display_data"
    }
   ],
   "source": [
    "dotplot(nw,\"wef_imort\",\"ht_region\")"
   ]
  },
  {
   "cell_type": "markdown",
   "id": "fc9ccef0",
   "metadata": {},
   "source": [
    "# Desafio 6"
   ]
  },
  {
   "cell_type": "code",
   "execution_count": 189,
   "id": "7c6a3ea9",
   "metadata": {},
   "outputs": [],
   "source": [
    "nw.to_csv(\"subsample_GO_demo.csv\")"
   ]
  }
 ],
 "metadata": {
  "kernelspec": {
   "display_name": "Python 3",
   "language": "python",
   "name": "python3"
  },
  "language_info": {
   "codemirror_mode": {
    "name": "ipython",
    "version": 3
   },
   "file_extension": ".py",
   "mimetype": "text/x-python",
   "name": "python",
   "nbconvert_exporter": "python",
   "pygments_lexer": "ipython3",
   "version": "3.8.8"
  }
 },
 "nbformat": 4,
 "nbformat_minor": 5
}
