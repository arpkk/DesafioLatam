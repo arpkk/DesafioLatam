{
 "cells": [
  {
   "cell_type": "markdown",
   "id": "6afeddf9",
   "metadata": {},
   "source": [
    "# Hito 1"
   ]
  },
  {
   "cell_type": "markdown",
   "id": "65fb3d2b",
   "metadata": {},
   "source": [
    "# Preliminares\n",
    "\n",
    "Lo que desea el organismo es saber la probabilidad de que un inviduo presente salarios por sobre o bajo los 50.000 dolares anuales, al ser dos condiciones es un problema de clasificación.\n",
    "\n",
    "Para medir el desempeño se utilizará una matriz de confusión, donde se cruza la información de la predicción con las etiquetas reales de la muestra de validación. (lib -> sklearn.metrics import confusion_matrix\n",
    "\n",
    "# Aspectos computacionales\n",
    "pandas: Es una herramienta para analizar y manipular datos.\n",
    "\n",
    "numpy: Es una herramienta que proporciona un objeto de matriz multidimensional y varias operaciones para matrices.\n",
    "\n",
    "pyplot: Crea figuras, trazados, lineas, etc. En general tiene funciones para graficar\n",
    "\n",
    "seaborn: Es una libreria de visualización de datos.\n",
    "\n",
    "confusion_matrix: Calcula la matriz de confución para evaluar el desempeño de una clasificación.\n",
    "\n",
    "PolynomialFeatures: Genera una matriz con las interacciones de todas las combinaciones de polinomios. \n",
    "\n",
    "\n",
    "# Datos:\n",
    "\n",
    "Como en el enunciado avisa que los datos perdidos no son NaN, sino un '?', se utiliza el where de numpy para buscar aquellas celdas que tienen el signo y no tomarlas en cuenta. Luego para verificar se utiliza un dropna().\n",
    "\n",
    "Para recodificar en la mayoria de columnas se utiliza la funcion loc gracias a su propiedad de acceder a una fila o columna según una condición. También para la columna 'income' se utiliza where() de numpy ya que son solo dos datos y se puede representar de forma binaria. Para verificar que los pasos anteriores fueron efectivos y que no quedaron datos perdidos, se verificará a traves de una consulta. Por ultimo, se eliminarán las columnas anteriores.\n",
    "\n",
    "Para tener las metricas de evaluación, se va a generar tres modelos, modelo lineal aditivo, modelo lineal con interacciones de 2-orden y modelo lineal con interaccion de 3-orden, para generar las interacciones se usará PolynomialFeatures, posteriormente se concatena la función fit_transform para luego graficar el comportamiento de los datos de los tres modelos mediante validación cruzada."
   ]
  },
  {
   "cell_type": "code",
   "execution_count": 1,
   "id": "a78cf1f0",
   "metadata": {},
   "outputs": [],
   "source": [
    "import warnings\n",
    "warnings.filterwarnings(\"ignore\", category=DeprecationWarning)\n",
    "import pandas as pd\n",
    "import numpy as np\n",
    "import matplotlib.pyplot as plt\n",
    "import seaborn as sns\n",
    "import statsmodels.formula.api as smf\n",
    "import funciones_clasificacion as fun\n",
    "from sklearn.metrics import confusion_matrix\n",
    "from sklearn.preprocessing import PolynomialFeatures\n",
    "from sklearn.model_selection import train_test_split\n"
   ]
  },
  {
   "cell_type": "code",
   "execution_count": 2,
   "id": "2b06c6e1",
   "metadata": {},
   "outputs": [
    {
     "data": {
      "text/html": [
       "<div>\n",
       "<style scoped>\n",
       "    .dataframe tbody tr th:only-of-type {\n",
       "        vertical-align: middle;\n",
       "    }\n",
       "\n",
       "    .dataframe tbody tr th {\n",
       "        vertical-align: top;\n",
       "    }\n",
       "\n",
       "    .dataframe thead th {\n",
       "        text-align: right;\n",
       "    }\n",
       "</style>\n",
       "<table border=\"1\" class=\"dataframe\">\n",
       "  <thead>\n",
       "    <tr style=\"text-align: right;\">\n",
       "      <th></th>\n",
       "      <th>age</th>\n",
       "      <th>workclass</th>\n",
       "      <th>fnlwgt</th>\n",
       "      <th>education</th>\n",
       "      <th>educational-num</th>\n",
       "      <th>marital-status</th>\n",
       "      <th>occupation</th>\n",
       "      <th>relationship</th>\n",
       "      <th>race</th>\n",
       "      <th>gender</th>\n",
       "      <th>capital-gain</th>\n",
       "      <th>capital-loss</th>\n",
       "      <th>hours-per-week</th>\n",
       "      <th>native-country</th>\n",
       "      <th>income</th>\n",
       "    </tr>\n",
       "  </thead>\n",
       "  <tbody>\n",
       "    <tr>\n",
       "      <th>0</th>\n",
       "      <td>25</td>\n",
       "      <td>Private</td>\n",
       "      <td>226802</td>\n",
       "      <td>11th</td>\n",
       "      <td>7</td>\n",
       "      <td>Never-married</td>\n",
       "      <td>Machine-op-inspct</td>\n",
       "      <td>Own-child</td>\n",
       "      <td>Black</td>\n",
       "      <td>Male</td>\n",
       "      <td>0</td>\n",
       "      <td>0</td>\n",
       "      <td>40</td>\n",
       "      <td>United-States</td>\n",
       "      <td>&lt;=50K</td>\n",
       "    </tr>\n",
       "    <tr>\n",
       "      <th>1</th>\n",
       "      <td>38</td>\n",
       "      <td>Private</td>\n",
       "      <td>89814</td>\n",
       "      <td>HS-grad</td>\n",
       "      <td>9</td>\n",
       "      <td>Married-civ-spouse</td>\n",
       "      <td>Farming-fishing</td>\n",
       "      <td>Husband</td>\n",
       "      <td>White</td>\n",
       "      <td>Male</td>\n",
       "      <td>0</td>\n",
       "      <td>0</td>\n",
       "      <td>50</td>\n",
       "      <td>United-States</td>\n",
       "      <td>&lt;=50K</td>\n",
       "    </tr>\n",
       "    <tr>\n",
       "      <th>2</th>\n",
       "      <td>28</td>\n",
       "      <td>Local-gov</td>\n",
       "      <td>336951</td>\n",
       "      <td>Assoc-acdm</td>\n",
       "      <td>12</td>\n",
       "      <td>Married-civ-spouse</td>\n",
       "      <td>Protective-serv</td>\n",
       "      <td>Husband</td>\n",
       "      <td>White</td>\n",
       "      <td>Male</td>\n",
       "      <td>0</td>\n",
       "      <td>0</td>\n",
       "      <td>40</td>\n",
       "      <td>United-States</td>\n",
       "      <td>&gt;50K</td>\n",
       "    </tr>\n",
       "    <tr>\n",
       "      <th>3</th>\n",
       "      <td>44</td>\n",
       "      <td>Private</td>\n",
       "      <td>160323</td>\n",
       "      <td>Some-college</td>\n",
       "      <td>10</td>\n",
       "      <td>Married-civ-spouse</td>\n",
       "      <td>Machine-op-inspct</td>\n",
       "      <td>Husband</td>\n",
       "      <td>Black</td>\n",
       "      <td>Male</td>\n",
       "      <td>7688</td>\n",
       "      <td>0</td>\n",
       "      <td>40</td>\n",
       "      <td>United-States</td>\n",
       "      <td>&gt;50K</td>\n",
       "    </tr>\n",
       "    <tr>\n",
       "      <th>5</th>\n",
       "      <td>34</td>\n",
       "      <td>Private</td>\n",
       "      <td>198693</td>\n",
       "      <td>10th</td>\n",
       "      <td>6</td>\n",
       "      <td>Never-married</td>\n",
       "      <td>Other-service</td>\n",
       "      <td>Not-in-family</td>\n",
       "      <td>White</td>\n",
       "      <td>Male</td>\n",
       "      <td>0</td>\n",
       "      <td>0</td>\n",
       "      <td>30</td>\n",
       "      <td>United-States</td>\n",
       "      <td>&lt;=50K</td>\n",
       "    </tr>\n",
       "    <tr>\n",
       "      <th>...</th>\n",
       "      <td>...</td>\n",
       "      <td>...</td>\n",
       "      <td>...</td>\n",
       "      <td>...</td>\n",
       "      <td>...</td>\n",
       "      <td>...</td>\n",
       "      <td>...</td>\n",
       "      <td>...</td>\n",
       "      <td>...</td>\n",
       "      <td>...</td>\n",
       "      <td>...</td>\n",
       "      <td>...</td>\n",
       "      <td>...</td>\n",
       "      <td>...</td>\n",
       "      <td>...</td>\n",
       "    </tr>\n",
       "    <tr>\n",
       "      <th>48837</th>\n",
       "      <td>27</td>\n",
       "      <td>Private</td>\n",
       "      <td>257302</td>\n",
       "      <td>Assoc-acdm</td>\n",
       "      <td>12</td>\n",
       "      <td>Married-civ-spouse</td>\n",
       "      <td>Tech-support</td>\n",
       "      <td>Wife</td>\n",
       "      <td>White</td>\n",
       "      <td>Female</td>\n",
       "      <td>0</td>\n",
       "      <td>0</td>\n",
       "      <td>38</td>\n",
       "      <td>United-States</td>\n",
       "      <td>&lt;=50K</td>\n",
       "    </tr>\n",
       "    <tr>\n",
       "      <th>48838</th>\n",
       "      <td>40</td>\n",
       "      <td>Private</td>\n",
       "      <td>154374</td>\n",
       "      <td>HS-grad</td>\n",
       "      <td>9</td>\n",
       "      <td>Married-civ-spouse</td>\n",
       "      <td>Machine-op-inspct</td>\n",
       "      <td>Husband</td>\n",
       "      <td>White</td>\n",
       "      <td>Male</td>\n",
       "      <td>0</td>\n",
       "      <td>0</td>\n",
       "      <td>40</td>\n",
       "      <td>United-States</td>\n",
       "      <td>&gt;50K</td>\n",
       "    </tr>\n",
       "    <tr>\n",
       "      <th>48839</th>\n",
       "      <td>58</td>\n",
       "      <td>Private</td>\n",
       "      <td>151910</td>\n",
       "      <td>HS-grad</td>\n",
       "      <td>9</td>\n",
       "      <td>Widowed</td>\n",
       "      <td>Adm-clerical</td>\n",
       "      <td>Unmarried</td>\n",
       "      <td>White</td>\n",
       "      <td>Female</td>\n",
       "      <td>0</td>\n",
       "      <td>0</td>\n",
       "      <td>40</td>\n",
       "      <td>United-States</td>\n",
       "      <td>&lt;=50K</td>\n",
       "    </tr>\n",
       "    <tr>\n",
       "      <th>48840</th>\n",
       "      <td>22</td>\n",
       "      <td>Private</td>\n",
       "      <td>201490</td>\n",
       "      <td>HS-grad</td>\n",
       "      <td>9</td>\n",
       "      <td>Never-married</td>\n",
       "      <td>Adm-clerical</td>\n",
       "      <td>Own-child</td>\n",
       "      <td>White</td>\n",
       "      <td>Male</td>\n",
       "      <td>0</td>\n",
       "      <td>0</td>\n",
       "      <td>20</td>\n",
       "      <td>United-States</td>\n",
       "      <td>&lt;=50K</td>\n",
       "    </tr>\n",
       "    <tr>\n",
       "      <th>48841</th>\n",
       "      <td>52</td>\n",
       "      <td>Self-emp-inc</td>\n",
       "      <td>287927</td>\n",
       "      <td>HS-grad</td>\n",
       "      <td>9</td>\n",
       "      <td>Married-civ-spouse</td>\n",
       "      <td>Exec-managerial</td>\n",
       "      <td>Wife</td>\n",
       "      <td>White</td>\n",
       "      <td>Female</td>\n",
       "      <td>15024</td>\n",
       "      <td>0</td>\n",
       "      <td>40</td>\n",
       "      <td>United-States</td>\n",
       "      <td>&gt;50K</td>\n",
       "    </tr>\n",
       "  </tbody>\n",
       "</table>\n",
       "<p>45222 rows × 15 columns</p>\n",
       "</div>"
      ],
      "text/plain": [
       "       age     workclass  fnlwgt     education  educational-num  \\\n",
       "0       25       Private  226802          11th                7   \n",
       "1       38       Private   89814       HS-grad                9   \n",
       "2       28     Local-gov  336951    Assoc-acdm               12   \n",
       "3       44       Private  160323  Some-college               10   \n",
       "5       34       Private  198693          10th                6   \n",
       "...    ...           ...     ...           ...              ...   \n",
       "48837   27       Private  257302    Assoc-acdm               12   \n",
       "48838   40       Private  154374       HS-grad                9   \n",
       "48839   58       Private  151910       HS-grad                9   \n",
       "48840   22       Private  201490       HS-grad                9   \n",
       "48841   52  Self-emp-inc  287927       HS-grad                9   \n",
       "\n",
       "           marital-status         occupation   relationship   race  gender  \\\n",
       "0           Never-married  Machine-op-inspct      Own-child  Black    Male   \n",
       "1      Married-civ-spouse    Farming-fishing        Husband  White    Male   \n",
       "2      Married-civ-spouse    Protective-serv        Husband  White    Male   \n",
       "3      Married-civ-spouse  Machine-op-inspct        Husband  Black    Male   \n",
       "5           Never-married      Other-service  Not-in-family  White    Male   \n",
       "...                   ...                ...            ...    ...     ...   \n",
       "48837  Married-civ-spouse       Tech-support           Wife  White  Female   \n",
       "48838  Married-civ-spouse  Machine-op-inspct        Husband  White    Male   \n",
       "48839             Widowed       Adm-clerical      Unmarried  White  Female   \n",
       "48840       Never-married       Adm-clerical      Own-child  White    Male   \n",
       "48841  Married-civ-spouse    Exec-managerial           Wife  White  Female   \n",
       "\n",
       "       capital-gain  capital-loss  hours-per-week native-country income  \n",
       "0                 0             0              40  United-States  <=50K  \n",
       "1                 0             0              50  United-States  <=50K  \n",
       "2                 0             0              40  United-States   >50K  \n",
       "3              7688             0              40  United-States   >50K  \n",
       "5                 0             0              30  United-States  <=50K  \n",
       "...             ...           ...             ...            ...    ...  \n",
       "48837             0             0              38  United-States  <=50K  \n",
       "48838             0             0              40  United-States   >50K  \n",
       "48839             0             0              40  United-States  <=50K  \n",
       "48840             0             0              20  United-States  <=50K  \n",
       "48841         15024             0              40  United-States   >50K  \n",
       "\n",
       "[45222 rows x 15 columns]"
      ]
     },
     "execution_count": 2,
     "metadata": {},
     "output_type": "execute_result"
    }
   ],
   "source": [
    "df = pd.read_csv(\"income-db.csv\")\n",
    "df= df.where(df!='?')\n",
    "cantinicial=df.sum()\n",
    "perdida= df.isna().sum()\n",
    "df= df.dropna()\n",
    "df"
   ]
  },
  {
   "cell_type": "code",
   "execution_count": 3,
   "id": "62ff3e7e",
   "metadata": {},
   "outputs": [],
   "source": [
    "#1 ← Prof-specialty, Exec-managerial, Adm-clerical, sales, Tech-support.\n",
    "#2 ← Craft-repair, Machine-op-inspct, Transport-moving, Handlers-cleaners, Farming-fishing, Protective-serv, Priv-house-serv.\n",
    "#3 ← Other-service, Armed-Forces.\n",
    "\n",
    "df.loc[(df['occupation']==\"Prof-specialty\") | (df['occupation']==\"Exec-managerial\") | (df['occupation']==\"Adm-clerical\")| (df['occupation']==\"Sales\")| (df['occupation']==\"Tech-support\"), 'collars'] = 1\n",
    "\n",
    "\n",
    "df.loc[((df['occupation']==\"Craft-repair\") | (df['occupation']==\"Machine-op-inspct\") | (df['occupation']==\"Transport-moving\")| (df['occupation']==\"Handlers-cleaners\")| (df['occupation']==\"Farming-fishing\") | (df['occupation']==\"Protective-serv\") | (df['occupation']==\"Priv-house-serv\")), 'collars'] = 2\n",
    "\n",
    "\n",
    "df.loc[((df['occupation']==\"Other-service\") | (df['occupation']==\"Armed-Forces\")), 'collars'] = 3\n",
    "\n",
    "df=df.drop(['occupation'],axis=1)"
   ]
  },
  {
   "cell_type": "code",
   "execution_count": 4,
   "id": "f3444ede",
   "metadata": {},
   "outputs": [
    {
     "data": {
      "text/html": [
       "<div>\n",
       "<style scoped>\n",
       "    .dataframe tbody tr th:only-of-type {\n",
       "        vertical-align: middle;\n",
       "    }\n",
       "\n",
       "    .dataframe tbody tr th {\n",
       "        vertical-align: top;\n",
       "    }\n",
       "\n",
       "    .dataframe thead th {\n",
       "        text-align: right;\n",
       "    }\n",
       "</style>\n",
       "<table border=\"1\" class=\"dataframe\">\n",
       "  <thead>\n",
       "    <tr style=\"text-align: right;\">\n",
       "      <th></th>\n",
       "      <th>age</th>\n",
       "      <th>workclass</th>\n",
       "      <th>fnlwgt</th>\n",
       "      <th>education</th>\n",
       "      <th>educational-num</th>\n",
       "      <th>marital-status</th>\n",
       "      <th>relationship</th>\n",
       "      <th>race</th>\n",
       "      <th>gender</th>\n",
       "      <th>capital-gain</th>\n",
       "      <th>capital-loss</th>\n",
       "      <th>hours-per-week</th>\n",
       "      <th>native-country</th>\n",
       "      <th>income</th>\n",
       "      <th>collars</th>\n",
       "    </tr>\n",
       "  </thead>\n",
       "  <tbody>\n",
       "  </tbody>\n",
       "</table>\n",
       "</div>"
      ],
      "text/plain": [
       "Empty DataFrame\n",
       "Columns: [age, workclass, fnlwgt, education, educational-num, marital-status, relationship, race, gender, capital-gain, capital-loss, hours-per-week, native-country, income, collars]\n",
       "Index: []"
      ]
     },
     "execution_count": 4,
     "metadata": {},
     "output_type": "execute_result"
    }
   ],
   "source": [
    "df[(df['collars']!=1)& (df['collars']!=2)&(df['collars']!=3)]"
   ]
  },
  {
   "cell_type": "code",
   "execution_count": 5,
   "id": "0cfff48e",
   "metadata": {},
   "outputs": [],
   "source": [
    "#1 ← Federal-gov.\n",
    "#2 ← State-gov, Local-gov.\n",
    "#3 ← Self-emp-inc, Self-emp-not-inc\n",
    "#4 ← Never-worked, Without-pay.\n",
    "#5 ← private\n",
    "\n",
    "df.loc[((df['workclass']==\"Federal-gov\")), 'workclass_recod'] = 1\n",
    "\n",
    "df.loc[((df['workclass']==\"State-gov\") | (df['workclass']=='Local-gov')), 'workclass_recod'] = 2\n",
    "\n",
    "df.loc[((df['workclass']==\"Self-emp-inc\") | (df['workclass']==\"Self-emp-not-inc\")), 'workclass_recod'] = 3\n",
    "\n",
    "df.loc[((df['workclass']==\"Never-worked\")| (df['workclass']==\"Without-pay\")), 'workclass_recod'] = 4\n",
    "\n",
    "df.loc[((df['workclass']==\"Private\")), 'workclass_recod'] = 5\n",
    "\n",
    "df=df.drop(['workclass'],axis=1)"
   ]
  },
  {
   "cell_type": "code",
   "execution_count": 6,
   "id": "d3ceebc8",
   "metadata": {},
   "outputs": [
    {
     "data": {
      "text/html": [
       "<div>\n",
       "<style scoped>\n",
       "    .dataframe tbody tr th:only-of-type {\n",
       "        vertical-align: middle;\n",
       "    }\n",
       "\n",
       "    .dataframe tbody tr th {\n",
       "        vertical-align: top;\n",
       "    }\n",
       "\n",
       "    .dataframe thead th {\n",
       "        text-align: right;\n",
       "    }\n",
       "</style>\n",
       "<table border=\"1\" class=\"dataframe\">\n",
       "  <thead>\n",
       "    <tr style=\"text-align: right;\">\n",
       "      <th></th>\n",
       "      <th>age</th>\n",
       "      <th>fnlwgt</th>\n",
       "      <th>education</th>\n",
       "      <th>educational-num</th>\n",
       "      <th>marital-status</th>\n",
       "      <th>relationship</th>\n",
       "      <th>race</th>\n",
       "      <th>gender</th>\n",
       "      <th>capital-gain</th>\n",
       "      <th>capital-loss</th>\n",
       "      <th>hours-per-week</th>\n",
       "      <th>native-country</th>\n",
       "      <th>income</th>\n",
       "      <th>collars</th>\n",
       "      <th>workclass_recod</th>\n",
       "    </tr>\n",
       "  </thead>\n",
       "  <tbody>\n",
       "  </tbody>\n",
       "</table>\n",
       "</div>"
      ],
      "text/plain": [
       "Empty DataFrame\n",
       "Columns: [age, fnlwgt, education, educational-num, marital-status, relationship, race, gender, capital-gain, capital-loss, hours-per-week, native-country, income, collars, workclass_recod]\n",
       "Index: []"
      ]
     },
     "execution_count": 6,
     "metadata": {},
     "output_type": "execute_result"
    }
   ],
   "source": [
    "df[(df['workclass_recod']!=1)& (df['workclass_recod']!=2)&(df['workclass_recod']!=3)&(df['workclass_recod']!=4)&(df['workclass_recod']!=5)]"
   ]
  },
  {
   "cell_type": "code",
   "execution_count": 7,
   "id": "5b788acc",
   "metadata": {},
   "outputs": [],
   "source": [
    "#1 ← Preschool\n",
    "#2 ← 1st-4th, 5th-6th\n",
    "#3 ← 7th-8th, 9th, 10th,11th, 12th, HS-grad\n",
    "#4 ← Assoc-voc, Assoc-acdm, Some-college\n",
    "#5 ← Bachelors, Masters, Prof-school, Doctorate.\n",
    "\n",
    "df.loc[((df['education']==\"Preschool\")), 'educ_recod'] = 1\n",
    "\n",
    "df.loc[((df['education']==\"1st-4th\")|(df['education']==\"5th-6th\")), 'educ_recod'] = 2\n",
    "\n",
    "df.loc[((df['education']==\"7th-8th\")|(df['education']==\"9th\")|(df['education']==\"10th\")|(df['education']==\"11th\")|(df['education']==\"12th\")|(df['education']==\"HS-grad\")), 'educ_recod'] = 3\n",
    "\n",
    "df.loc[((df['education']==\"Assoc-voc\")|(df['education']==\"Assoc-acdm\")|(df['education']==\"Some-college\")), 'educ_recod'] = 4\n",
    "\n",
    "df.loc[((df['education']==\"Bachelors\")|(df['education']==\"Masters\")|(df['education']==\"Prof-school\")|(df['education']==\"Doctorate\")), 'educ_recod'] = 5\n",
    "\n",
    "df=df.drop(['education'],axis=1)"
   ]
  },
  {
   "cell_type": "code",
   "execution_count": 8,
   "id": "f988d09d",
   "metadata": {},
   "outputs": [
    {
     "data": {
      "text/html": [
       "<div>\n",
       "<style scoped>\n",
       "    .dataframe tbody tr th:only-of-type {\n",
       "        vertical-align: middle;\n",
       "    }\n",
       "\n",
       "    .dataframe tbody tr th {\n",
       "        vertical-align: top;\n",
       "    }\n",
       "\n",
       "    .dataframe thead th {\n",
       "        text-align: right;\n",
       "    }\n",
       "</style>\n",
       "<table border=\"1\" class=\"dataframe\">\n",
       "  <thead>\n",
       "    <tr style=\"text-align: right;\">\n",
       "      <th></th>\n",
       "      <th>age</th>\n",
       "      <th>fnlwgt</th>\n",
       "      <th>educational-num</th>\n",
       "      <th>marital-status</th>\n",
       "      <th>relationship</th>\n",
       "      <th>race</th>\n",
       "      <th>gender</th>\n",
       "      <th>capital-gain</th>\n",
       "      <th>capital-loss</th>\n",
       "      <th>hours-per-week</th>\n",
       "      <th>native-country</th>\n",
       "      <th>income</th>\n",
       "      <th>collars</th>\n",
       "      <th>workclass_recod</th>\n",
       "      <th>educ_recod</th>\n",
       "    </tr>\n",
       "  </thead>\n",
       "  <tbody>\n",
       "  </tbody>\n",
       "</table>\n",
       "</div>"
      ],
      "text/plain": [
       "Empty DataFrame\n",
       "Columns: [age, fnlwgt, educational-num, marital-status, relationship, race, gender, capital-gain, capital-loss, hours-per-week, native-country, income, collars, workclass_recod, educ_recod]\n",
       "Index: []"
      ]
     },
     "execution_count": 8,
     "metadata": {},
     "output_type": "execute_result"
    }
   ],
   "source": [
    "df[(df['educ_recod']!=1)& (df['educ_recod']!=2)&(df['educ_recod']!=3)&(df['educ_recod']!=4)&(df['educ_recod']!=5)]"
   ]
  },
  {
   "cell_type": "code",
   "execution_count": 9,
   "id": "9d1c2387",
   "metadata": {},
   "outputs": [],
   "source": [
    "#1 ← Married-civ-spouse, Married-spouse-absent, Married-AF-spouse.\n",
    "#2 ← Divorced.\n",
    "#3 ← Separated.\n",
    "#4 ← Widowed.\n",
    "\n",
    "df.loc[((df['marital-status']==\"Married-civ-spouse\")|(df['marital-status']==\"Married-spouse-absent\")|(df['marital-status']==\"Married-AF-spouse\")), 'civstatus'] = 1\n",
    "\n",
    "df.loc[(df['marital-status']==\"Divorced\"), 'civstatus'] = 2\n",
    "\n",
    "df.loc[(df['marital-status']==\"Separated\"), 'civstatus'] = 3\n",
    "\n",
    "df.loc[(df['marital-status']==\"Widowed\"), 'civstatus'] = 4\n",
    "\n",
    "df.loc[(df['marital-status']==\"Never-married\"), 'civstatus'] = 5\n",
    "\n",
    "df=df.drop(['marital-status'],axis=1)"
   ]
  },
  {
   "cell_type": "code",
   "execution_count": 10,
   "id": "9fce68f2",
   "metadata": {},
   "outputs": [
    {
     "data": {
      "text/html": [
       "<div>\n",
       "<style scoped>\n",
       "    .dataframe tbody tr th:only-of-type {\n",
       "        vertical-align: middle;\n",
       "    }\n",
       "\n",
       "    .dataframe tbody tr th {\n",
       "        vertical-align: top;\n",
       "    }\n",
       "\n",
       "    .dataframe thead th {\n",
       "        text-align: right;\n",
       "    }\n",
       "</style>\n",
       "<table border=\"1\" class=\"dataframe\">\n",
       "  <thead>\n",
       "    <tr style=\"text-align: right;\">\n",
       "      <th></th>\n",
       "      <th>age</th>\n",
       "      <th>fnlwgt</th>\n",
       "      <th>educational-num</th>\n",
       "      <th>relationship</th>\n",
       "      <th>race</th>\n",
       "      <th>gender</th>\n",
       "      <th>capital-gain</th>\n",
       "      <th>capital-loss</th>\n",
       "      <th>hours-per-week</th>\n",
       "      <th>native-country</th>\n",
       "      <th>income</th>\n",
       "      <th>collars</th>\n",
       "      <th>workclass_recod</th>\n",
       "      <th>educ_recod</th>\n",
       "      <th>civstatus</th>\n",
       "    </tr>\n",
       "  </thead>\n",
       "  <tbody>\n",
       "  </tbody>\n",
       "</table>\n",
       "</div>"
      ],
      "text/plain": [
       "Empty DataFrame\n",
       "Columns: [age, fnlwgt, educational-num, relationship, race, gender, capital-gain, capital-loss, hours-per-week, native-country, income, collars, workclass_recod, educ_recod, civstatus]\n",
       "Index: []"
      ]
     },
     "execution_count": 10,
     "metadata": {},
     "output_type": "execute_result"
    }
   ],
   "source": [
    "df[(df['civstatus']!=1)& (df['civstatus']!=2)& (df['civstatus']!=3)&(df['civstatus']!=4)&(df['civstatus']!=5)]"
   ]
  },
  {
   "cell_type": "code",
   "execution_count": 11,
   "id": "ea6fb83e",
   "metadata": {},
   "outputs": [],
   "source": [
    "#native-country: País de origen. United-States, Cambodia, England, Puerto-Rico,\n",
    "#Canada, Germany, Outlying-US(Guam-USVI-etc), India, Japan, Greece, South, China,\n",
    "#Cuba, Iran, Honduras, Philippines, Italy, Poland, Jamaica, Vietnam, Mexico, Portugal,\n",
    "#Ireland, France, Dominican-Republic, Laos, Ecuador, Taiwan, Haiti, Columbia,\n",
    "#Hungary, Guatemala, Nicaragua, Scotland, Thailand, Yugoslavia, El-Salvador,\n",
    "#Trinadad&Tobago, Peru, Hong, Holand-Netherlands.\n",
    "#america\n",
    "df.loc[((df['native-country']==\"United-States\")|(df['native-country']==\"Puerto-Rico\"))|(df['native-country']==\"Canada\")|(df['native-country']==\"Cuba\")|(df['native-country']==\"Honduras\")|(df['native-country']==\"Jamaica\")|(df['native-country']==\"Mexico\")|(df['native-country']==\"Dominican-Republic\")|(df['native-country']==\"Ecuador\")|(df['native-country']==\"Haiti\")|(df['native-country']==\"Columbia\")|(df['native-country']==\"Guatemala\")|(df['native-country']==\"Nicaragua\")|(df['native-country']==\"El-Salvador\")|(df['native-country']==\"Trinadad&Tobago\")|(df['native-country']==\"Peru\"), 'region']=1\n",
    "\n",
    "#asia\n",
    "df.loc[(df['native-country']==\"Cambodia\")|(df['native-country']==\"India\")|(df['native-country']==\"Japan\")|(df['native-country']==\"China\")|(df['native-country']==\"Iran\")|(df['native-country']==\"Philippines\")|(df['native-country']==\"Vietnam\")|(df['native-country']==\"Laos\")|(df['native-country']==\"Taiwan\")|(df['native-country']==\"Thailand\")|(df['native-country']==\"Hong\"), 'region'] = 2\n",
    "\n",
    "#europa\n",
    "df.loc[(df['native-country']==\"England\")|(df['native-country']==\"Germany\")|(df['native-country']==\"Greece\")|(df['native-country']==\"Italy\")|(df['native-country']==\"Poland\")|(df['native-country']==\"Portugal\")|(df['native-country']==\"Ireland\")|(df['native-country']==\"France\")|(df['native-country']==\"Portugal\")|(df['native-country']==\"Hungary\")|(df['native-country']==\"Scotland\")|(df['native-country']==\"Yugoslavia\")|(df['native-country']==\"Holand-Netherlands\"), 'region'] = 3\n",
    "\n",
    "#africa\n",
    "df.loc[(df['native-country']==\"South\"), 'region'] = 4\n",
    "\n",
    "#aceania\n",
    "df.loc[((df['native-country']==\"Outlying-US(Guam-USVI-etc)\")), 'region'] = 5\n",
    "\n",
    "df=df.drop(['native-country'],axis=1)"
   ]
  },
  {
   "cell_type": "code",
   "execution_count": 12,
   "id": "eaa0419b",
   "metadata": {},
   "outputs": [
    {
     "data": {
      "text/html": [
       "<div>\n",
       "<style scoped>\n",
       "    .dataframe tbody tr th:only-of-type {\n",
       "        vertical-align: middle;\n",
       "    }\n",
       "\n",
       "    .dataframe tbody tr th {\n",
       "        vertical-align: top;\n",
       "    }\n",
       "\n",
       "    .dataframe thead th {\n",
       "        text-align: right;\n",
       "    }\n",
       "</style>\n",
       "<table border=\"1\" class=\"dataframe\">\n",
       "  <thead>\n",
       "    <tr style=\"text-align: right;\">\n",
       "      <th></th>\n",
       "      <th>age</th>\n",
       "      <th>fnlwgt</th>\n",
       "      <th>educational-num</th>\n",
       "      <th>relationship</th>\n",
       "      <th>race</th>\n",
       "      <th>gender</th>\n",
       "      <th>capital-gain</th>\n",
       "      <th>capital-loss</th>\n",
       "      <th>hours-per-week</th>\n",
       "      <th>income</th>\n",
       "      <th>collars</th>\n",
       "      <th>workclass_recod</th>\n",
       "      <th>educ_recod</th>\n",
       "      <th>civstatus</th>\n",
       "      <th>region</th>\n",
       "    </tr>\n",
       "  </thead>\n",
       "  <tbody>\n",
       "    <tr>\n",
       "      <th>0</th>\n",
       "      <td>25</td>\n",
       "      <td>226802</td>\n",
       "      <td>7</td>\n",
       "      <td>Own-child</td>\n",
       "      <td>Black</td>\n",
       "      <td>Male</td>\n",
       "      <td>0</td>\n",
       "      <td>0</td>\n",
       "      <td>40</td>\n",
       "      <td>&lt;=50K</td>\n",
       "      <td>2.0</td>\n",
       "      <td>5.0</td>\n",
       "      <td>3.0</td>\n",
       "      <td>5.0</td>\n",
       "      <td>1.0</td>\n",
       "    </tr>\n",
       "    <tr>\n",
       "      <th>1</th>\n",
       "      <td>38</td>\n",
       "      <td>89814</td>\n",
       "      <td>9</td>\n",
       "      <td>Husband</td>\n",
       "      <td>White</td>\n",
       "      <td>Male</td>\n",
       "      <td>0</td>\n",
       "      <td>0</td>\n",
       "      <td>50</td>\n",
       "      <td>&lt;=50K</td>\n",
       "      <td>2.0</td>\n",
       "      <td>5.0</td>\n",
       "      <td>3.0</td>\n",
       "      <td>1.0</td>\n",
       "      <td>1.0</td>\n",
       "    </tr>\n",
       "    <tr>\n",
       "      <th>2</th>\n",
       "      <td>28</td>\n",
       "      <td>336951</td>\n",
       "      <td>12</td>\n",
       "      <td>Husband</td>\n",
       "      <td>White</td>\n",
       "      <td>Male</td>\n",
       "      <td>0</td>\n",
       "      <td>0</td>\n",
       "      <td>40</td>\n",
       "      <td>&gt;50K</td>\n",
       "      <td>2.0</td>\n",
       "      <td>2.0</td>\n",
       "      <td>4.0</td>\n",
       "      <td>1.0</td>\n",
       "      <td>1.0</td>\n",
       "    </tr>\n",
       "    <tr>\n",
       "      <th>3</th>\n",
       "      <td>44</td>\n",
       "      <td>160323</td>\n",
       "      <td>10</td>\n",
       "      <td>Husband</td>\n",
       "      <td>Black</td>\n",
       "      <td>Male</td>\n",
       "      <td>7688</td>\n",
       "      <td>0</td>\n",
       "      <td>40</td>\n",
       "      <td>&gt;50K</td>\n",
       "      <td>2.0</td>\n",
       "      <td>5.0</td>\n",
       "      <td>4.0</td>\n",
       "      <td>1.0</td>\n",
       "      <td>1.0</td>\n",
       "    </tr>\n",
       "    <tr>\n",
       "      <th>5</th>\n",
       "      <td>34</td>\n",
       "      <td>198693</td>\n",
       "      <td>6</td>\n",
       "      <td>Not-in-family</td>\n",
       "      <td>White</td>\n",
       "      <td>Male</td>\n",
       "      <td>0</td>\n",
       "      <td>0</td>\n",
       "      <td>30</td>\n",
       "      <td>&lt;=50K</td>\n",
       "      <td>3.0</td>\n",
       "      <td>5.0</td>\n",
       "      <td>3.0</td>\n",
       "      <td>5.0</td>\n",
       "      <td>1.0</td>\n",
       "    </tr>\n",
       "    <tr>\n",
       "      <th>...</th>\n",
       "      <td>...</td>\n",
       "      <td>...</td>\n",
       "      <td>...</td>\n",
       "      <td>...</td>\n",
       "      <td>...</td>\n",
       "      <td>...</td>\n",
       "      <td>...</td>\n",
       "      <td>...</td>\n",
       "      <td>...</td>\n",
       "      <td>...</td>\n",
       "      <td>...</td>\n",
       "      <td>...</td>\n",
       "      <td>...</td>\n",
       "      <td>...</td>\n",
       "      <td>...</td>\n",
       "    </tr>\n",
       "    <tr>\n",
       "      <th>48837</th>\n",
       "      <td>27</td>\n",
       "      <td>257302</td>\n",
       "      <td>12</td>\n",
       "      <td>Wife</td>\n",
       "      <td>White</td>\n",
       "      <td>Female</td>\n",
       "      <td>0</td>\n",
       "      <td>0</td>\n",
       "      <td>38</td>\n",
       "      <td>&lt;=50K</td>\n",
       "      <td>1.0</td>\n",
       "      <td>5.0</td>\n",
       "      <td>4.0</td>\n",
       "      <td>1.0</td>\n",
       "      <td>1.0</td>\n",
       "    </tr>\n",
       "    <tr>\n",
       "      <th>48838</th>\n",
       "      <td>40</td>\n",
       "      <td>154374</td>\n",
       "      <td>9</td>\n",
       "      <td>Husband</td>\n",
       "      <td>White</td>\n",
       "      <td>Male</td>\n",
       "      <td>0</td>\n",
       "      <td>0</td>\n",
       "      <td>40</td>\n",
       "      <td>&gt;50K</td>\n",
       "      <td>2.0</td>\n",
       "      <td>5.0</td>\n",
       "      <td>3.0</td>\n",
       "      <td>1.0</td>\n",
       "      <td>1.0</td>\n",
       "    </tr>\n",
       "    <tr>\n",
       "      <th>48839</th>\n",
       "      <td>58</td>\n",
       "      <td>151910</td>\n",
       "      <td>9</td>\n",
       "      <td>Unmarried</td>\n",
       "      <td>White</td>\n",
       "      <td>Female</td>\n",
       "      <td>0</td>\n",
       "      <td>0</td>\n",
       "      <td>40</td>\n",
       "      <td>&lt;=50K</td>\n",
       "      <td>1.0</td>\n",
       "      <td>5.0</td>\n",
       "      <td>3.0</td>\n",
       "      <td>4.0</td>\n",
       "      <td>1.0</td>\n",
       "    </tr>\n",
       "    <tr>\n",
       "      <th>48840</th>\n",
       "      <td>22</td>\n",
       "      <td>201490</td>\n",
       "      <td>9</td>\n",
       "      <td>Own-child</td>\n",
       "      <td>White</td>\n",
       "      <td>Male</td>\n",
       "      <td>0</td>\n",
       "      <td>0</td>\n",
       "      <td>20</td>\n",
       "      <td>&lt;=50K</td>\n",
       "      <td>1.0</td>\n",
       "      <td>5.0</td>\n",
       "      <td>3.0</td>\n",
       "      <td>5.0</td>\n",
       "      <td>1.0</td>\n",
       "    </tr>\n",
       "    <tr>\n",
       "      <th>48841</th>\n",
       "      <td>52</td>\n",
       "      <td>287927</td>\n",
       "      <td>9</td>\n",
       "      <td>Wife</td>\n",
       "      <td>White</td>\n",
       "      <td>Female</td>\n",
       "      <td>15024</td>\n",
       "      <td>0</td>\n",
       "      <td>40</td>\n",
       "      <td>&gt;50K</td>\n",
       "      <td>1.0</td>\n",
       "      <td>3.0</td>\n",
       "      <td>3.0</td>\n",
       "      <td>1.0</td>\n",
       "      <td>1.0</td>\n",
       "    </tr>\n",
       "  </tbody>\n",
       "</table>\n",
       "<p>45222 rows × 15 columns</p>\n",
       "</div>"
      ],
      "text/plain": [
       "       age  fnlwgt  educational-num   relationship   race  gender  \\\n",
       "0       25  226802                7      Own-child  Black    Male   \n",
       "1       38   89814                9        Husband  White    Male   \n",
       "2       28  336951               12        Husband  White    Male   \n",
       "3       44  160323               10        Husband  Black    Male   \n",
       "5       34  198693                6  Not-in-family  White    Male   \n",
       "...    ...     ...              ...            ...    ...     ...   \n",
       "48837   27  257302               12           Wife  White  Female   \n",
       "48838   40  154374                9        Husband  White    Male   \n",
       "48839   58  151910                9      Unmarried  White  Female   \n",
       "48840   22  201490                9      Own-child  White    Male   \n",
       "48841   52  287927                9           Wife  White  Female   \n",
       "\n",
       "       capital-gain  capital-loss  hours-per-week income  collars  \\\n",
       "0                 0             0              40  <=50K      2.0   \n",
       "1                 0             0              50  <=50K      2.0   \n",
       "2                 0             0              40   >50K      2.0   \n",
       "3              7688             0              40   >50K      2.0   \n",
       "5                 0             0              30  <=50K      3.0   \n",
       "...             ...           ...             ...    ...      ...   \n",
       "48837             0             0              38  <=50K      1.0   \n",
       "48838             0             0              40   >50K      2.0   \n",
       "48839             0             0              40  <=50K      1.0   \n",
       "48840             0             0              20  <=50K      1.0   \n",
       "48841         15024             0              40   >50K      1.0   \n",
       "\n",
       "       workclass_recod  educ_recod  civstatus  region  \n",
       "0                  5.0         3.0        5.0     1.0  \n",
       "1                  5.0         3.0        1.0     1.0  \n",
       "2                  2.0         4.0        1.0     1.0  \n",
       "3                  5.0         4.0        1.0     1.0  \n",
       "5                  5.0         3.0        5.0     1.0  \n",
       "...                ...         ...        ...     ...  \n",
       "48837              5.0         4.0        1.0     1.0  \n",
       "48838              5.0         3.0        1.0     1.0  \n",
       "48839              5.0         3.0        4.0     1.0  \n",
       "48840              5.0         3.0        5.0     1.0  \n",
       "48841              3.0         3.0        1.0     1.0  \n",
       "\n",
       "[45222 rows x 15 columns]"
      ]
     },
     "execution_count": 12,
     "metadata": {},
     "output_type": "execute_result"
    }
   ],
   "source": [
    "df"
   ]
  },
  {
   "cell_type": "code",
   "execution_count": 13,
   "id": "01480ef5",
   "metadata": {},
   "outputs": [],
   "source": [
    "df['Income']=np.where(df['income']=='<=50K',1,0)\n",
    "df=df.drop(['income'],axis=1)"
   ]
  },
  {
   "cell_type": "code",
   "execution_count": 14,
   "id": "d3a444ff",
   "metadata": {},
   "outputs": [
    {
     "data": {
      "text/html": [
       "<div>\n",
       "<style scoped>\n",
       "    .dataframe tbody tr th:only-of-type {\n",
       "        vertical-align: middle;\n",
       "    }\n",
       "\n",
       "    .dataframe tbody tr th {\n",
       "        vertical-align: top;\n",
       "    }\n",
       "\n",
       "    .dataframe thead th {\n",
       "        text-align: right;\n",
       "    }\n",
       "</style>\n",
       "<table border=\"1\" class=\"dataframe\">\n",
       "  <thead>\n",
       "    <tr style=\"text-align: right;\">\n",
       "      <th></th>\n",
       "      <th>age</th>\n",
       "      <th>fnlwgt</th>\n",
       "      <th>educational-num</th>\n",
       "      <th>relationship</th>\n",
       "      <th>race</th>\n",
       "      <th>gender</th>\n",
       "      <th>capital-gain</th>\n",
       "      <th>capital-loss</th>\n",
       "      <th>hours-per-week</th>\n",
       "      <th>collars</th>\n",
       "      <th>workclass_recod</th>\n",
       "      <th>educ_recod</th>\n",
       "      <th>civstatus</th>\n",
       "      <th>region</th>\n",
       "      <th>Income</th>\n",
       "    </tr>\n",
       "  </thead>\n",
       "  <tbody>\n",
       "    <tr>\n",
       "      <th>0</th>\n",
       "      <td>25</td>\n",
       "      <td>226802</td>\n",
       "      <td>7</td>\n",
       "      <td>Own-child</td>\n",
       "      <td>Black</td>\n",
       "      <td>Male</td>\n",
       "      <td>0</td>\n",
       "      <td>0</td>\n",
       "      <td>40</td>\n",
       "      <td>2.0</td>\n",
       "      <td>5.0</td>\n",
       "      <td>3.0</td>\n",
       "      <td>5.0</td>\n",
       "      <td>1.0</td>\n",
       "      <td>1</td>\n",
       "    </tr>\n",
       "    <tr>\n",
       "      <th>1</th>\n",
       "      <td>38</td>\n",
       "      <td>89814</td>\n",
       "      <td>9</td>\n",
       "      <td>Husband</td>\n",
       "      <td>White</td>\n",
       "      <td>Male</td>\n",
       "      <td>0</td>\n",
       "      <td>0</td>\n",
       "      <td>50</td>\n",
       "      <td>2.0</td>\n",
       "      <td>5.0</td>\n",
       "      <td>3.0</td>\n",
       "      <td>1.0</td>\n",
       "      <td>1.0</td>\n",
       "      <td>1</td>\n",
       "    </tr>\n",
       "    <tr>\n",
       "      <th>2</th>\n",
       "      <td>28</td>\n",
       "      <td>336951</td>\n",
       "      <td>12</td>\n",
       "      <td>Husband</td>\n",
       "      <td>White</td>\n",
       "      <td>Male</td>\n",
       "      <td>0</td>\n",
       "      <td>0</td>\n",
       "      <td>40</td>\n",
       "      <td>2.0</td>\n",
       "      <td>2.0</td>\n",
       "      <td>4.0</td>\n",
       "      <td>1.0</td>\n",
       "      <td>1.0</td>\n",
       "      <td>0</td>\n",
       "    </tr>\n",
       "    <tr>\n",
       "      <th>3</th>\n",
       "      <td>44</td>\n",
       "      <td>160323</td>\n",
       "      <td>10</td>\n",
       "      <td>Husband</td>\n",
       "      <td>Black</td>\n",
       "      <td>Male</td>\n",
       "      <td>7688</td>\n",
       "      <td>0</td>\n",
       "      <td>40</td>\n",
       "      <td>2.0</td>\n",
       "      <td>5.0</td>\n",
       "      <td>4.0</td>\n",
       "      <td>1.0</td>\n",
       "      <td>1.0</td>\n",
       "      <td>0</td>\n",
       "    </tr>\n",
       "    <tr>\n",
       "      <th>5</th>\n",
       "      <td>34</td>\n",
       "      <td>198693</td>\n",
       "      <td>6</td>\n",
       "      <td>Not-in-family</td>\n",
       "      <td>White</td>\n",
       "      <td>Male</td>\n",
       "      <td>0</td>\n",
       "      <td>0</td>\n",
       "      <td>30</td>\n",
       "      <td>3.0</td>\n",
       "      <td>5.0</td>\n",
       "      <td>3.0</td>\n",
       "      <td>5.0</td>\n",
       "      <td>1.0</td>\n",
       "      <td>1</td>\n",
       "    </tr>\n",
       "    <tr>\n",
       "      <th>...</th>\n",
       "      <td>...</td>\n",
       "      <td>...</td>\n",
       "      <td>...</td>\n",
       "      <td>...</td>\n",
       "      <td>...</td>\n",
       "      <td>...</td>\n",
       "      <td>...</td>\n",
       "      <td>...</td>\n",
       "      <td>...</td>\n",
       "      <td>...</td>\n",
       "      <td>...</td>\n",
       "      <td>...</td>\n",
       "      <td>...</td>\n",
       "      <td>...</td>\n",
       "      <td>...</td>\n",
       "    </tr>\n",
       "    <tr>\n",
       "      <th>48837</th>\n",
       "      <td>27</td>\n",
       "      <td>257302</td>\n",
       "      <td>12</td>\n",
       "      <td>Wife</td>\n",
       "      <td>White</td>\n",
       "      <td>Female</td>\n",
       "      <td>0</td>\n",
       "      <td>0</td>\n",
       "      <td>38</td>\n",
       "      <td>1.0</td>\n",
       "      <td>5.0</td>\n",
       "      <td>4.0</td>\n",
       "      <td>1.0</td>\n",
       "      <td>1.0</td>\n",
       "      <td>1</td>\n",
       "    </tr>\n",
       "    <tr>\n",
       "      <th>48838</th>\n",
       "      <td>40</td>\n",
       "      <td>154374</td>\n",
       "      <td>9</td>\n",
       "      <td>Husband</td>\n",
       "      <td>White</td>\n",
       "      <td>Male</td>\n",
       "      <td>0</td>\n",
       "      <td>0</td>\n",
       "      <td>40</td>\n",
       "      <td>2.0</td>\n",
       "      <td>5.0</td>\n",
       "      <td>3.0</td>\n",
       "      <td>1.0</td>\n",
       "      <td>1.0</td>\n",
       "      <td>0</td>\n",
       "    </tr>\n",
       "    <tr>\n",
       "      <th>48839</th>\n",
       "      <td>58</td>\n",
       "      <td>151910</td>\n",
       "      <td>9</td>\n",
       "      <td>Unmarried</td>\n",
       "      <td>White</td>\n",
       "      <td>Female</td>\n",
       "      <td>0</td>\n",
       "      <td>0</td>\n",
       "      <td>40</td>\n",
       "      <td>1.0</td>\n",
       "      <td>5.0</td>\n",
       "      <td>3.0</td>\n",
       "      <td>4.0</td>\n",
       "      <td>1.0</td>\n",
       "      <td>1</td>\n",
       "    </tr>\n",
       "    <tr>\n",
       "      <th>48840</th>\n",
       "      <td>22</td>\n",
       "      <td>201490</td>\n",
       "      <td>9</td>\n",
       "      <td>Own-child</td>\n",
       "      <td>White</td>\n",
       "      <td>Male</td>\n",
       "      <td>0</td>\n",
       "      <td>0</td>\n",
       "      <td>20</td>\n",
       "      <td>1.0</td>\n",
       "      <td>5.0</td>\n",
       "      <td>3.0</td>\n",
       "      <td>5.0</td>\n",
       "      <td>1.0</td>\n",
       "      <td>1</td>\n",
       "    </tr>\n",
       "    <tr>\n",
       "      <th>48841</th>\n",
       "      <td>52</td>\n",
       "      <td>287927</td>\n",
       "      <td>9</td>\n",
       "      <td>Wife</td>\n",
       "      <td>White</td>\n",
       "      <td>Female</td>\n",
       "      <td>15024</td>\n",
       "      <td>0</td>\n",
       "      <td>40</td>\n",
       "      <td>1.0</td>\n",
       "      <td>3.0</td>\n",
       "      <td>3.0</td>\n",
       "      <td>1.0</td>\n",
       "      <td>1.0</td>\n",
       "      <td>0</td>\n",
       "    </tr>\n",
       "  </tbody>\n",
       "</table>\n",
       "<p>45222 rows × 15 columns</p>\n",
       "</div>"
      ],
      "text/plain": [
       "       age  fnlwgt  educational-num   relationship   race  gender  \\\n",
       "0       25  226802                7      Own-child  Black    Male   \n",
       "1       38   89814                9        Husband  White    Male   \n",
       "2       28  336951               12        Husband  White    Male   \n",
       "3       44  160323               10        Husband  Black    Male   \n",
       "5       34  198693                6  Not-in-family  White    Male   \n",
       "...    ...     ...              ...            ...    ...     ...   \n",
       "48837   27  257302               12           Wife  White  Female   \n",
       "48838   40  154374                9        Husband  White    Male   \n",
       "48839   58  151910                9      Unmarried  White  Female   \n",
       "48840   22  201490                9      Own-child  White    Male   \n",
       "48841   52  287927                9           Wife  White  Female   \n",
       "\n",
       "       capital-gain  capital-loss  hours-per-week  collars  workclass_recod  \\\n",
       "0                 0             0              40      2.0              5.0   \n",
       "1                 0             0              50      2.0              5.0   \n",
       "2                 0             0              40      2.0              2.0   \n",
       "3              7688             0              40      2.0              5.0   \n",
       "5                 0             0              30      3.0              5.0   \n",
       "...             ...           ...             ...      ...              ...   \n",
       "48837             0             0              38      1.0              5.0   \n",
       "48838             0             0              40      2.0              5.0   \n",
       "48839             0             0              40      1.0              5.0   \n",
       "48840             0             0              20      1.0              5.0   \n",
       "48841         15024             0              40      1.0              3.0   \n",
       "\n",
       "       educ_recod  civstatus  region  Income  \n",
       "0             3.0        5.0     1.0       1  \n",
       "1             3.0        1.0     1.0       1  \n",
       "2             4.0        1.0     1.0       0  \n",
       "3             4.0        1.0     1.0       0  \n",
       "5             3.0        5.0     1.0       1  \n",
       "...           ...        ...     ...     ...  \n",
       "48837         4.0        1.0     1.0       1  \n",
       "48838         3.0        1.0     1.0       0  \n",
       "48839         3.0        4.0     1.0       1  \n",
       "48840         3.0        5.0     1.0       1  \n",
       "48841         3.0        1.0     1.0       0  \n",
       "\n",
       "[45222 rows x 15 columns]"
      ]
     },
     "execution_count": 14,
     "metadata": {},
     "output_type": "execute_result"
    }
   ],
   "source": [
    "df"
   ]
  },
  {
   "cell_type": "markdown",
   "id": "bc4ec44c",
   "metadata": {},
   "source": [
    "# Hito 2"
   ]
  },
  {
   "cell_type": "markdown",
   "id": "5f73d67a",
   "metadata": {},
   "source": [
    "# Descripción"
   ]
  },
  {
   "cell_type": "markdown",
   "id": "1f348d88",
   "metadata": {},
   "source": [
    "# Vector objetivo"
   ]
  },
  {
   "cell_type": "markdown",
   "id": "306edf17",
   "metadata": {},
   "source": [
    "Ya que el objetivo de este modelo es saber la probabilidad de que un inviduo presente salarios por sobre o bajo los 50.000 dolares, se usa la variable 'Income' ya recodificada."
   ]
  },
  {
   "cell_type": "code",
   "execution_count": 15,
   "id": "7732c421",
   "metadata": {},
   "outputs": [
    {
     "name": "stderr",
     "output_type": "stream",
     "text": [
      "/Users/ginaozimisa/opt/anaconda3/lib/python3.8/site-packages/seaborn/_decorators.py:36: FutureWarning: Pass the following variable as a keyword arg: x. From version 0.12, the only valid positional argument will be `data`, and passing other arguments without an explicit keyword will result in an error or misinterpretation.\n",
      "  warnings.warn(\n"
     ]
    },
    {
     "data": {
      "text/plain": [
       "<AxesSubplot:xlabel='Income', ylabel='count'>"
      ]
     },
     "execution_count": 15,
     "metadata": {},
     "output_type": "execute_result"
    },
    {
     "data": {
      "image/png": "[encoded data removed]",
      "text/plain": [
       "<Figure size 720x432 with 1 Axes>"
      ]
     },
     "metadata": {},
     "output_type": "display_data"
    }
   ],
   "source": [
    "#Graficos estilo seaborn\n",
    "plt.style.use('seaborn') \n",
    "#Tamaño de graficos\n",
    "plt.rcParams['figure.figsize']=(10,6)\n",
    "#Grafico de Income\n",
    "sns.countplot(df['Income'])"
   ]
  },
  {
   "cell_type": "markdown",
   "id": "fc683838",
   "metadata": {},
   "source": [
    "1 predomina sobre 0 por lo que puede ser un problema no balanceado"
   ]
  },
  {
   "cell_type": "markdown",
   "id": "ba79fbfd",
   "metadata": {},
   "source": [
    "# Variables"
   ]
  },
  {
   "cell_type": "code",
   "execution_count": 16,
   "id": "dcdcc713",
   "metadata": {},
   "outputs": [
    {
     "data": {
      "text/html": [
       "<div>\n",
       "<style scoped>\n",
       "    .dataframe tbody tr th:only-of-type {\n",
       "        vertical-align: middle;\n",
       "    }\n",
       "\n",
       "    .dataframe tbody tr th {\n",
       "        vertical-align: top;\n",
       "    }\n",
       "\n",
       "    .dataframe thead th {\n",
       "        text-align: right;\n",
       "    }\n",
       "</style>\n",
       "<table border=\"1\" class=\"dataframe\">\n",
       "  <thead>\n",
       "    <tr style=\"text-align: right;\">\n",
       "      <th></th>\n",
       "      <th>age</th>\n",
       "      <th>fnlwgt</th>\n",
       "      <th>educational-num</th>\n",
       "      <th>capital-gain</th>\n",
       "      <th>capital-loss</th>\n",
       "      <th>hours-per-week</th>\n",
       "      <th>collars</th>\n",
       "      <th>workclass_recod</th>\n",
       "      <th>educ_recod</th>\n",
       "      <th>civstatus</th>\n",
       "      <th>region</th>\n",
       "      <th>Income</th>\n",
       "    </tr>\n",
       "  </thead>\n",
       "  <tbody>\n",
       "    <tr>\n",
       "      <th>count</th>\n",
       "      <td>45222.000000</td>\n",
       "      <td>4.522200e+04</td>\n",
       "      <td>45222.000000</td>\n",
       "      <td>45222.000000</td>\n",
       "      <td>45222.000000</td>\n",
       "      <td>45222.000000</td>\n",
       "      <td>45222.000000</td>\n",
       "      <td>45222.000000</td>\n",
       "      <td>45222.000000</td>\n",
       "      <td>45222.000000</td>\n",
       "      <td>45222.000000</td>\n",
       "      <td>45222.000000</td>\n",
       "    </tr>\n",
       "    <tr>\n",
       "      <th>mean</th>\n",
       "      <td>38.547941</td>\n",
       "      <td>1.897347e+05</td>\n",
       "      <td>10.118460</td>\n",
       "      <td>1101.430344</td>\n",
       "      <td>88.595418</td>\n",
       "      <td>40.938017</td>\n",
       "      <td>1.567954</td>\n",
       "      <td>4.299743</td>\n",
       "      <td>3.782274</td>\n",
       "      <td>2.577595</td>\n",
       "      <td>1.061850</td>\n",
       "      <td>0.752156</td>\n",
       "    </tr>\n",
       "    <tr>\n",
       "      <th>std</th>\n",
       "      <td>13.217870</td>\n",
       "      <td>1.056392e+05</td>\n",
       "      <td>2.552881</td>\n",
       "      <td>7506.430084</td>\n",
       "      <td>404.956092</td>\n",
       "      <td>12.007508</td>\n",
       "      <td>0.677238</td>\n",
       "      <td>1.221965</td>\n",
       "      <td>0.845175</td>\n",
       "      <td>1.787284</td>\n",
       "      <td>0.331519</td>\n",
       "      <td>0.431766</td>\n",
       "    </tr>\n",
       "    <tr>\n",
       "      <th>min</th>\n",
       "      <td>17.000000</td>\n",
       "      <td>1.349200e+04</td>\n",
       "      <td>1.000000</td>\n",
       "      <td>0.000000</td>\n",
       "      <td>0.000000</td>\n",
       "      <td>1.000000</td>\n",
       "      <td>1.000000</td>\n",
       "      <td>1.000000</td>\n",
       "      <td>1.000000</td>\n",
       "      <td>1.000000</td>\n",
       "      <td>1.000000</td>\n",
       "      <td>0.000000</td>\n",
       "    </tr>\n",
       "    <tr>\n",
       "      <th>25%</th>\n",
       "      <td>28.000000</td>\n",
       "      <td>1.173882e+05</td>\n",
       "      <td>9.000000</td>\n",
       "      <td>0.000000</td>\n",
       "      <td>0.000000</td>\n",
       "      <td>40.000000</td>\n",
       "      <td>1.000000</td>\n",
       "      <td>3.000000</td>\n",
       "      <td>3.000000</td>\n",
       "      <td>1.000000</td>\n",
       "      <td>1.000000</td>\n",
       "      <td>1.000000</td>\n",
       "    </tr>\n",
       "    <tr>\n",
       "      <th>50%</th>\n",
       "      <td>37.000000</td>\n",
       "      <td>1.783160e+05</td>\n",
       "      <td>10.000000</td>\n",
       "      <td>0.000000</td>\n",
       "      <td>0.000000</td>\n",
       "      <td>40.000000</td>\n",
       "      <td>1.000000</td>\n",
       "      <td>5.000000</td>\n",
       "      <td>4.000000</td>\n",
       "      <td>2.000000</td>\n",
       "      <td>1.000000</td>\n",
       "      <td>1.000000</td>\n",
       "    </tr>\n",
       "    <tr>\n",
       "      <th>75%</th>\n",
       "      <td>47.000000</td>\n",
       "      <td>2.379260e+05</td>\n",
       "      <td>13.000000</td>\n",
       "      <td>0.000000</td>\n",
       "      <td>0.000000</td>\n",
       "      <td>45.000000</td>\n",
       "      <td>2.000000</td>\n",
       "      <td>5.000000</td>\n",
       "      <td>5.000000</td>\n",
       "      <td>5.000000</td>\n",
       "      <td>1.000000</td>\n",
       "      <td>1.000000</td>\n",
       "    </tr>\n",
       "    <tr>\n",
       "      <th>max</th>\n",
       "      <td>90.000000</td>\n",
       "      <td>1.490400e+06</td>\n",
       "      <td>16.000000</td>\n",
       "      <td>99999.000000</td>\n",
       "      <td>4356.000000</td>\n",
       "      <td>99.000000</td>\n",
       "      <td>3.000000</td>\n",
       "      <td>5.000000</td>\n",
       "      <td>5.000000</td>\n",
       "      <td>5.000000</td>\n",
       "      <td>5.000000</td>\n",
       "      <td>1.000000</td>\n",
       "    </tr>\n",
       "  </tbody>\n",
       "</table>\n",
       "</div>"
      ],
      "text/plain": [
       "                age        fnlwgt  educational-num  capital-gain  \\\n",
       "count  45222.000000  4.522200e+04     45222.000000  45222.000000   \n",
       "mean      38.547941  1.897347e+05        10.118460   1101.430344   \n",
       "std       13.217870  1.056392e+05         2.552881   7506.430084   \n",
       "min       17.000000  1.349200e+04         1.000000      0.000000   \n",
       "25%       28.000000  1.173882e+05         9.000000      0.000000   \n",
       "50%       37.000000  1.783160e+05        10.000000      0.000000   \n",
       "75%       47.000000  2.379260e+05        13.000000      0.000000   \n",
       "max       90.000000  1.490400e+06        16.000000  99999.000000   \n",
       "\n",
       "       capital-loss  hours-per-week       collars  workclass_recod  \\\n",
       "count  45222.000000    45222.000000  45222.000000     45222.000000   \n",
       "mean      88.595418       40.938017      1.567954         4.299743   \n",
       "std      404.956092       12.007508      0.677238         1.221965   \n",
       "min        0.000000        1.000000      1.000000         1.000000   \n",
       "25%        0.000000       40.000000      1.000000         3.000000   \n",
       "50%        0.000000       40.000000      1.000000         5.000000   \n",
       "75%        0.000000       45.000000      2.000000         5.000000   \n",
       "max     4356.000000       99.000000      3.000000         5.000000   \n",
       "\n",
       "         educ_recod     civstatus        region        Income  \n",
       "count  45222.000000  45222.000000  45222.000000  45222.000000  \n",
       "mean       3.782274      2.577595      1.061850      0.752156  \n",
       "std        0.845175      1.787284      0.331519      0.431766  \n",
       "min        1.000000      1.000000      1.000000      0.000000  \n",
       "25%        3.000000      1.000000      1.000000      1.000000  \n",
       "50%        4.000000      2.000000      1.000000      1.000000  \n",
       "75%        5.000000      5.000000      1.000000      1.000000  \n",
       "max        5.000000      5.000000      5.000000      1.000000  "
      ]
     },
     "execution_count": 16,
     "metadata": {},
     "output_type": "execute_result"
    }
   ],
   "source": [
    "df.describe()"
   ]
  },
  {
   "cell_type": "code",
   "execution_count": 17,
   "id": "99373035",
   "metadata": {},
   "outputs": [
    {
     "name": "stderr",
     "output_type": "stream",
     "text": [
      "/Users/ginaozimisa/opt/anaconda3/lib/python3.8/site-packages/seaborn/_decorators.py:36: FutureWarning: Pass the following variable as a keyword arg: x. From version 0.12, the only valid positional argument will be `data`, and passing other arguments without an explicit keyword will result in an error or misinterpretation.\n",
      "  warnings.warn(\n"
     ]
    },
    {
     "name": "stdout",
     "output_type": "stream",
     "text": [
      "\n",
      "\n"
     ]
    },
    {
     "data": {
      "image/png": "[encoded data removed]",
      "text/plain": [
       "<Figure size 360x360 with 1 Axes>"
      ]
     },
     "metadata": {},
     "output_type": "display_data"
    },
    {
     "data": {
      "image/png": "[encoded data removed]",
      "text/plain": [
       "<Figure size 360x360 with 1 Axes>"
      ]
     },
     "metadata": {},
     "output_type": "display_data"
    },
    {
     "data": {
      "image/png": "[encoded data removed]",
      "text/plain": [
       "<Figure size 360x360 with 1 Axes>"
      ]
     },
     "metadata": {},
     "output_type": "display_data"
    },
    {
     "data": {
      "image/png": "[encoded data removed]",
      "text/plain": [
       "<Figure size 360x360 with 1 Axes>"
      ]
     },
     "metadata": {},
     "output_type": "display_data"
    },
    {
     "data": {
      "image/png": "[encoded data removed]",
      "text/plain": [
       "<Figure size 360x360 with 1 Axes>"
      ]
     },
     "metadata": {},
     "output_type": "display_data"
    },
    {
     "data": {
      "image/png": "[encoded data removed]",
      "text/plain": [
       "<Figure size 360x360 with 1 Axes>"
      ]
     },
     "metadata": {},
     "output_type": "display_data"
    },
    {
     "data": {
      "image/png": "[encoded data removed]",
      "text/plain": [
       "<Figure size 360x360 with 1 Axes>"
      ]
     },
     "metadata": {},
     "output_type": "display_data"
    },
    {
     "data": {
      "image/png": "[encoded data removed]",
      "text/plain": [
       "<Figure size 360x360 with 1 Axes>"
      ]
     },
     "metadata": {},
     "output_type": "display_data"
    },
    {
     "data": {
      "image/png": "[encoded data removed]",
      "text/plain": [
       "<Figure size 360x360 with 1 Axes>"
      ]
     },
     "metadata": {},
     "output_type": "display_data"
    },
    {
     "data": {
      "image/png": "[encoded data removed]",
      "text/plain": [
       "<Figure size 360x360 with 1 Axes>"
      ]
     },
     "metadata": {},
     "output_type": "display_data"
    },
    {
     "data": {
      "image/png": "[encoded data removed]",
      "text/plain": [
       "<Figure size 360x360 with 1 Axes>"
      ]
     },
     "metadata": {},
     "output_type": "display_data"
    },
    {
     "data": {
      "image/png": "[encoded data removed]",
      "text/plain": [
       "<Figure size 360x360 with 1 Axes>"
      ]
     },
     "metadata": {},
     "output_type": "display_data"
    },
    {
     "data": {
      "image/png": "[encoded data removed]",
      "text/plain": [
       "<Figure size 360x360 with 1 Axes>"
      ]
     },
     "metadata": {},
     "output_type": "display_data"
    }
   ],
   "source": [
    "for index, value in enumerate(df):\n",
    "    # Se salta la columna Income\n",
    "    if value=='Income':\n",
    "        print(\"\\n\")\n",
    "    # Si es una variable binaria, se hace un subplot\n",
    "    elif len(df[value].value_counts())==2:\n",
    "        plt.subplot(3, 5, index+1)\n",
    "        sns.countplot(df[value])\n",
    "    # Si tiene varios valores, se hace un displot\n",
    "    else:\n",
    "        sns.displot(df[value])\n",
    "    plt.tight_layout()"
   ]
  },
  {
   "cell_type": "code",
   "execution_count": 18,
   "id": "4cb52e77",
   "metadata": {},
   "outputs": [
    {
     "data": {
      "text/plain": [
       "<AxesSubplot:>"
      ]
     },
     "execution_count": 18,
     "metadata": {},
     "output_type": "execute_result"
    },
    {
     "data": {
      "image/png": "[encoded data removed]",
      "text/plain": [
       "<Figure size 720x432 with 2 Axes>"
      ]
     },
     "metadata": {},
     "output_type": "display_data"
    }
   ],
   "source": [
    "sns.heatmap(df.corr(), cmap='Blues', annot=True)"
   ]
  },
  {
   "cell_type": "markdown",
   "id": "b0def3b4",
   "metadata": {},
   "source": [
    "El gráfico de correlación no muestra asociaciones fuertes entre las variables. Pero este no es un impedimento para seguir con la modelación ya que muchas relcaciones no son lineales."
   ]
  },
  {
   "cell_type": "markdown",
   "id": "9bca9303",
   "metadata": {},
   "source": [
    "# Datos perdidos"
   ]
  },
  {
   "cell_type": "code",
   "execution_count": 19,
   "id": "cc6cc33b",
   "metadata": {},
   "outputs": [
    {
     "data": {
      "text/plain": [
       "age                   0\n",
       "workclass          2799\n",
       "fnlwgt                0\n",
       "education             0\n",
       "educational-num       0\n",
       "marital-status        0\n",
       "occupation         2809\n",
       "relationship          0\n",
       "race                  0\n",
       "gender                0\n",
       "capital-gain          0\n",
       "capital-loss          0\n",
       "hours-per-week        0\n",
       "native-country      857\n",
       "income                0\n",
       "dtype: int64"
      ]
     },
     "execution_count": 19,
     "metadata": {},
     "output_type": "execute_result"
    }
   ],
   "source": [
    "perdida"
   ]
  },
  {
   "cell_type": "markdown",
   "id": "fe6a656f",
   "metadata": {},
   "source": [
    "Se aprecia que las columnas workclass, occupation, native-country son las unicas que pierden datos, lo que se calcula un 0,88% de perdida. Por lo tanto, se prefiere no hacer nada.\n",
    "Solo eliminar NaN.\n"
   ]
  },
  {
   "cell_type": "markdown",
   "id": "4bc8b2b3",
   "metadata": {},
   "source": [
    "# Hito 3"
   ]
  },
  {
   "cell_type": "markdown",
   "id": "bb295446",
   "metadata": {},
   "source": [
    "Inicialmente se tendrá una primera aproximación del problema utilizando una regresión lineal. Asumiendo que la variable dependiente estaremos midiendo la probabilidad del suceso.\n",
    "\n",
    "$Income=\\beta_0 + \\beta_1 \\times age + \\varepsilon_i$\n",
    "\n",
    "En este caso se propone el siguiente modelo, debido a que age tiene un sesgo hacia los valores bajos."
   ]
  },
  {
   "cell_type": "code",
   "execution_count": 20,
   "id": "41985424",
   "metadata": {},
   "outputs": [],
   "source": [
    " # ejecutemos el modelo\n",
    "m1_ols = smf.ols('Income ~ age', df).fit()"
   ]
  },
  {
   "cell_type": "code",
   "execution_count": 21,
   "id": "79c8c134",
   "metadata": {},
   "outputs": [
    {
     "name": "stdout",
     "output_type": "stream",
     "text": [
      "\n",
      "Goodness of Fit statistics\n",
      "             Statistics       Value\n",
      "2                 BIC:  49778.3609\n",
      "3      Log-Likelihood:     -24878.\n",
      "4         F-statistic:       2692.\n",
      "5  Prob (F-statistic):        0.00\n",
      "6               Scale:     0.17595\n",
      "\n",
      "Point Estimates\n",
      "\n",
      "               Coef.  Std.Err.\n",
      "Intercept  1.050632  0.006081\n",
      "age       -0.007743  0.000149\n"
     ]
    }
   ],
   "source": [
    "fun.concise_summary(m1_ols)"
   ]
  },
  {
   "cell_type": "markdown",
   "id": "2ee1acff",
   "metadata": {},
   "source": [
    "Se apuntarán inicialmente los coeficientes y los errores estandar, sacando asi el puntaje z."
   ]
  },
  {
   "cell_type": "code",
   "execution_count": 22,
   "id": "61c87caa",
   "metadata": {},
   "outputs": [
    {
     "data": {
      "text/plain": [
       "172.7728991942115"
      ]
     },
     "execution_count": 22,
     "metadata": {},
     "output_type": "execute_result"
    }
   ],
   "source": [
    "1.050632 / 0.006081"
   ]
  },
  {
   "cell_type": "markdown",
   "id": "d5987f41",
   "metadata": {},
   "source": [
    "Con confianza del 95%, siendo el puntaje de corte 1.96. Como es superior al puntaje de corte, existe evidencia de rechazar la hipotesis nula. Como age es la pendiente, al ser negativa la recta es negativa, quiere decir que dos sujetos con las mismas caracteristicas que difieren en la edad, conlleva a una disminución del 0.7743%"
   ]
  },
  {
   "cell_type": "code",
   "execution_count": 23,
   "id": "ddd19670",
   "metadata": {},
   "outputs": [
    {
     "data": {
      "text/plain": [
       "-51.966442953020135"
      ]
     },
     "execution_count": 23,
     "metadata": {},
     "output_type": "execute_result"
    }
   ],
   "source": [
    "-0.007743 / 0.000149"
   ]
  },
  {
   "cell_type": "markdown",
   "id": "dd8b13a2",
   "metadata": {},
   "source": [
    "Este puntaje es superior a los puntajes de corte, por lo que se puede rechazar la hipotesis nula"
   ]
  },
  {
   "cell_type": "code",
   "execution_count": 24,
   "id": "3fea89da",
   "metadata": {},
   "outputs": [
    {
     "name": "stderr",
     "output_type": "stream",
     "text": [
      "/Users/ginaozimisa/opt/anaconda3/lib/python3.8/site-packages/seaborn/_decorators.py:36: FutureWarning: Pass the following variables as keyword args: x, y, data. From version 0.12, the only valid positional argument will be `data`, and passing other arguments without an explicit keyword will result in an error or misinterpretation.\n",
      "  warnings.warn(\n"
     ]
    },
    {
     "data": {
      "image/png": "[encoded data removed]",
      "text/plain": [
       "<Figure size 360x360 with 1 Axes>"
      ]
     },
     "metadata": {},
     "output_type": "display_data"
    }
   ],
   "source": [
    "sns.lmplot('age','Income', df,line_kws={'color':'tomato'},scatter_kws={'color': 'grey', 'alpha': .5});"
   ]
  },
  {
   "cell_type": "markdown",
   "id": "54631477",
   "metadata": {},
   "source": [
    "Ahora, como el modelo de probabilidad lineal presenta algunas fallas, se utiliza el modelo de regresión logistica utilizando logit."
   ]
  },
  {
   "cell_type": "code",
   "execution_count": 25,
   "id": "db61301d",
   "metadata": {},
   "outputs": [
    {
     "name": "stdout",
     "output_type": "stream",
     "text": [
      "Optimization terminated successfully.\n",
      "         Current function value: 0.532330\n",
      "         Iterations 6\n",
      "\n",
      "Goodness of Fit statistics\n",
      "         Statistics       Value\n",
      "2             BIC:  48167.5256\n",
      "3  Log-Likelihood:     -24073.\n",
      "4         LL-Null:     -25322.\n",
      "5     LLR p-value:      0.0000\n",
      "6           Scale:      1.0000\n",
      "7                             \n",
      "\n",
      "Point Estimates\n",
      "\n",
      "              Coef.  Std.Err.\n",
      "Intercept  2.76718  0.037006\n",
      "age       -0.04118  0.000845\n"
     ]
    }
   ],
   "source": [
    "m1_logit = smf.logit('Income ~ age', df).fit()\n",
    "fun.concise_summary(m1_logit)"
   ]
  },
  {
   "cell_type": "markdown",
   "id": "70979b47",
   "metadata": {},
   "source": [
    "Aún así esto no es correcto dado que los parámetros estimados mediante la regresión logística se conocen como log-odds, que representan el logaritmo de la oportunidad (chance) de\n",
    "ocurrencia de un evento en específico. Para esto se pasará a Log Odds y luego a probabilidad."
   ]
  },
  {
   "cell_type": "code",
   "execution_count": 26,
   "id": "04e74ca6",
   "metadata": {},
   "outputs": [
    {
     "name": "stdout",
     "output_type": "stream",
     "text": [
      "La media es de  38.55\n",
      "El log odds estimado es de  1.18\n"
     ]
    }
   ],
   "source": [
    "age_mean = df['age'].mean()\n",
    "print(\"La media es de \", round(age_mean, 2))\n",
    "estimate_y = m1_logit.params['Intercept'] + (m1_logit.params['age']* age_mean)\n",
    "print(\"El log odds estimado es de \", round(estimate_y, 2))"
   ]
  },
  {
   "cell_type": "markdown",
   "id": "fffcf7d8",
   "metadata": {},
   "source": [
    "Ahora se pasará a probabilidad"
   ]
  },
  {
   "cell_type": "code",
   "execution_count": 27,
   "id": "2f31dfc3",
   "metadata": {},
   "outputs": [
    {
     "name": "stdout",
     "output_type": "stream",
     "text": [
      "La probabilidad promedio de que el individuo percibe ingresos inferiores a 50.000 dólares anuales cuando tiene una edad de 39 años es:  0.76\n"
     ]
    }
   ],
   "source": [
    "print(\"La probabilidad promedio de que el individuo percibe ingresos inferiores a 50.000 dólares anuales cuando tiene una edad de 39 años es: \",\n",
    "      round(fun.invlogit(estimate_y), 2))"
   ]
  },
  {
   "cell_type": "markdown",
   "id": "8620fefd",
   "metadata": {},
   "source": [
    "Se observará cuál es el comportmiento si se aumenta un año de la persona."
   ]
  },
  {
   "cell_type": "code",
   "execution_count": 28,
   "id": "6745d35d",
   "metadata": {},
   "outputs": [],
   "source": [
    "pr_dist_100 = fun.invlogit(m1_logit.params['Intercept'] +(m1_logit.params['age'] * 37))\n",
    "pr_dist_200 = fun.invlogit(m1_logit.params['Intercept'] +(m1_logit.params['age'] * 38))\n",
    "pr_dist_300 = fun.invlogit(m1_logit.params['Intercept'] +(m1_logit.params['age'] * 39))\n",
    "pr_dist_400 = fun.invlogit(m1_logit.params['Intercept'] +(m1_logit.params['age'] * 40))"
   ]
  },
  {
   "cell_type": "code",
   "execution_count": 29,
   "id": "88427dd2",
   "metadata": {},
   "outputs": [
    {
     "name": "stdout",
     "output_type": "stream",
     "text": [
      "La probabilidad de tener ingresos superiores entre 37 y 38 años:  0.007\n",
      "La probabilidad de tener ingresos superiores entre 38 y 39 años:  0.007\n",
      "La probabilidad de tener ingresos superiores entre 39 y 40 años:  0.008\n"
     ]
    }
   ],
   "source": [
    "print(\"La probabilidad de tener ingresos superiores entre 37 y 38 años: \",\n",
    "round(pr_dist_100 - pr_dist_200, 3))\n",
    "print(\"La probabilidad de tener ingresos superiores entre 38 y 39 años: \",\n",
    "round(pr_dist_200 - pr_dist_300, 3))\n",
    "print(\"La probabilidad de tener ingresos superiores entre 39 y 40 años: \",\n",
    "round(pr_dist_300 - pr_dist_400, 3))"
   ]
  },
  {
   "cell_type": "markdown",
   "id": "a77aae8f",
   "metadata": {},
   "source": [
    "No se puede asumir monotonicidad estricta en los parámetros. La probabilidad de un cambio entre 38 y 39 es distinta a la probabilidad entre 39 y 40."
   ]
  },
  {
   "cell_type": "code",
   "execution_count": 30,
   "id": "920974a3",
   "metadata": {},
   "outputs": [
    {
     "name": "stderr",
     "output_type": "stream",
     "text": [
      "/Users/ginaozimisa/opt/anaconda3/lib/python3.8/site-packages/seaborn/_decorators.py:36: FutureWarning: Pass the following variables as keyword args: x, y, data. From version 0.12, the only valid positional argument will be `data`, and passing other arguments without an explicit keyword will result in an error or misinterpretation.\n",
      "  warnings.warn(\n"
     ]
    },
    {
     "name": "stdout",
     "output_type": "stream",
     "text": [
      "Una observación tiene igual probabilidad en ambos sucesos cuando x =  67.196\n"
     ]
    },
    {
     "data": {
      "image/png": "[encoded data removed]",
      "text/plain": [
       "<Figure size 360x360 with 1 Axes>"
      ]
     },
     "metadata": {},
     "output_type": "display_data"
    }
   ],
   "source": [
    "sns.lmplot('age', 'Income', df,\n",
    "logistic=True,\n",
    "line_kws={'color':'tomato', 'lw': 3},\n",
    "scatter_kws={'color': 'lightgrey', 'alpha': .5})\n",
    "decision_boundary = - m1_logit.params['Intercept'] /m1_logit.params['age']\n",
    "plt.axvline(decision_boundary, lw=1, color='dodgerblue')\n",
    "plt.axhline(.5, linestyle='--', color='grey', lw=1)\n",
    "plt.text(decision_boundary+.2, .5+.05, r'Caso donde $\\hat{p}=.5$',\n",
    "color='forestgreen')\n",
    "plt.plot(decision_boundary, .5, 'o', color='forestgreen')\n",
    "print(\"Una observación tiene igual probabilidad en ambos sucesos cuando x = \", round(decision_boundary, 3));"
   ]
  },
  {
   "cell_type": "markdown",
   "id": "7f64401b",
   "metadata": {},
   "source": [
    "Se puede notar que a diferencia de la recta, ahora hay una curva no tan pronunciada.\n",
    "Por lo que se puede ententer, la probabilidad de tener menos o igual ingresos de 50k va disminuyendo a medida de los años."
   ]
  },
  {
   "cell_type": "markdown",
   "id": "0b4b86ed",
   "metadata": {},
   "source": [
    "# Hito 4"
   ]
  },
  {
   "cell_type": "markdown",
   "id": "36a55e0e",
   "metadata": {},
   "source": [
    "Se procede a repetir el proceso pero con collars y civstatus, usando esta vez la funcion analisis_modelo que resume todo el proceso."
   ]
  },
  {
   "cell_type": "code",
   "execution_count": 31,
   "id": "84b382b6",
   "metadata": {},
   "outputs": [
    {
     "name": "stdout",
     "output_type": "stream",
     "text": [
      "\n",
      "Goodness of Fit statistics\n",
      "             Statistics       Value\n",
      "2                 BIC:  49750.3734\n",
      "3      Log-Likelihood:     -24864.\n",
      "4         F-statistic:       2722.\n",
      "5  Prob (F-statistic):        0.00\n",
      "6               Scale:     0.17584\n",
      "\n",
      "Point Estimates\n",
      "\n",
      "               Coef.  Std.Err.\n",
      "Intercept  0.513975  0.004973\n",
      "collars    0.151906  0.002912\n"
     ]
    },
    {
     "name": "stderr",
     "output_type": "stream",
     "text": [
      "/Users/ginaozimisa/opt/anaconda3/lib/python3.8/site-packages/seaborn/_decorators.py:36: FutureWarning: Pass the following variables as keyword args: x, y, data. From version 0.12, the only valid positional argument will be `data`, and passing other arguments without an explicit keyword will result in an error or misinterpretation.\n",
      "  warnings.warn(\n"
     ]
    },
    {
     "name": "stdout",
     "output_type": "stream",
     "text": [
      "Optimization terminated successfully.\n",
      "         Current function value: 0.528052\n",
      "         Iterations 6\n",
      "\n",
      "Goodness of Fit statistics\n",
      "         Statistics       Value\n",
      "2             BIC:  47780.5720\n",
      "3  Log-Likelihood:     -23880.\n",
      "4         LL-Null:     -25322.\n",
      "5     LLR p-value:      0.0000\n",
      "6           Scale:      1.0000\n",
      "7                             \n",
      "\n",
      "Point Estimates\n",
      "\n",
      "               Coef.  Std.Err.\n",
      "Intercept -0.337205  0.029735\n",
      "collars    0.995138  0.020433\n",
      "La media es de  1.57\n",
      "El log odds estimado es de  1.22\n",
      "La probabilidad promedio de que el individuo percibe ingresos inferiores a 50.000 dólares anuales cuando tiene una edad de 39 años es:  0.77\n"
     ]
    },
    {
     "name": "stderr",
     "output_type": "stream",
     "text": [
      "/Users/ginaozimisa/opt/anaconda3/lib/python3.8/site-packages/seaborn/_decorators.py:36: FutureWarning: Pass the following variables as keyword args: x, y, data. From version 0.12, the only valid positional argument will be `data`, and passing other arguments without an explicit keyword will result in an error or misinterpretation.\n",
      "  warnings.warn(\n"
     ]
    },
    {
     "name": "stdout",
     "output_type": "stream",
     "text": [
      "Una observación tiene igual probabilidad en ambos sucesos cuando x =  0.339\n"
     ]
    },
    {
     "data": {
      "image/png": "[encoded data removed]",
      "text/plain": [
       "<Figure size 360x360 with 1 Axes>"
      ]
     },
     "metadata": {},
     "output_type": "display_data"
    },
    {
     "data": {
      "image/png": "[encoded data removed]",
      "text/plain": [
       "<Figure size 360x360 with 1 Axes>"
      ]
     },
     "metadata": {},
     "output_type": "display_data"
    }
   ],
   "source": [
    "fun.analisis_modelo('collars', 'Income', df)"
   ]
  },
  {
   "cell_type": "code",
   "execution_count": 38,
   "id": "81abab89",
   "metadata": {},
   "outputs": [
    {
     "name": "stdout",
     "output_type": "stream",
     "text": [
      "\n",
      "Goodness of Fit statistics\n",
      "             Statistics       Value\n",
      "2                 BIC:  44869.9621\n",
      "3      Log-Likelihood:     -22424.\n",
      "4         F-statistic:       8185.\n",
      "5  Prob (F-statistic):        0.00\n",
      "6               Scale:     0.15785\n",
      "\n",
      "Point Estimates\n",
      "\n",
      "               Coef.  Std.Err.\n",
      "Intercept  0.508380  0.003279\n",
      "civstatus  0.094575  0.001045\n"
     ]
    },
    {
     "name": "stderr",
     "output_type": "stream",
     "text": [
      "/Users/ginaozimisa/opt/anaconda3/lib/python3.8/site-packages/seaborn/_decorators.py:36: FutureWarning: Pass the following variables as keyword args: x, y, data. From version 0.12, the only valid positional argument will be `data`, and passing other arguments without an explicit keyword will result in an error or misinterpretation.\n",
      "  warnings.warn(\n"
     ]
    },
    {
     "name": "stdout",
     "output_type": "stream",
     "text": [
      "Optimization terminated successfully.\n",
      "         Current function value: 0.466328\n",
      "         Iterations 7\n",
      "\n",
      "Goodness of Fit statistics\n",
      "         Statistics       Value\n",
      "2             BIC:  42198.0119\n",
      "3  Log-Likelihood:     -21088.\n",
      "4         LL-Null:     -25322.\n",
      "5     LLR p-value:      0.0000\n",
      "6           Scale:      1.0000\n",
      "7                             \n",
      "\n",
      "Point Estimates\n",
      "\n",
      "               Coef.  Std.Err.\n",
      "Intercept -0.413528  0.020556\n",
      "civstatus  0.766888  0.011225\n",
      "La media es de  2.58\n",
      "El log odds estimado es de  1.56\n",
      "La probabilidad promedio de que el individuo percibe ingresos inferiores a 50.000 dólares anuales cuando tiene una edad de 39 años es:  0.83\n"
     ]
    },
    {
     "name": "stderr",
     "output_type": "stream",
     "text": [
      "/Users/ginaozimisa/opt/anaconda3/lib/python3.8/site-packages/seaborn/_decorators.py:36: FutureWarning: Pass the following variables as keyword args: x, y, data. From version 0.12, the only valid positional argument will be `data`, and passing other arguments without an explicit keyword will result in an error or misinterpretation.\n",
      "  warnings.warn(\n"
     ]
    },
    {
     "name": "stdout",
     "output_type": "stream",
     "text": [
      "Una observación tiene igual probabilidad en ambos sucesos cuando x =  0.539\n"
     ]
    },
    {
     "data": {
      "image/png": "[encoded data removed]",
      "text/plain": [
       "<Figure size 360x360 with 1 Axes>"
      ]
     },
     "metadata": {},
     "output_type": "display_data"
    },
    {
     "data": {
      "image/png": "[encoded data removed]",
      "text/plain": [
       "<Figure size 360x360 with 1 Axes>"
      ]
     },
     "metadata": {},
     "output_type": "display_data"
    }
   ],
   "source": [
    "fun.analisis_modelo('civstatus', 'Income', df)"
   ]
  },
  {
   "cell_type": "markdown",
   "id": "b7dd62f5",
   "metadata": {},
   "source": [
    "En estos casos el mejor modelo es civstatus ya que \"afecta\" más a los ingresos"
   ]
  },
  {
   "cell_type": "markdown",
   "id": "55cc95ce",
   "metadata": {},
   "source": [
    "Se usarán tres modelos, estos tendran una division para el entrenamiento y el testeo usaando train_test_split() y la función llamada learn() creada en el script funciones_clasificacion.py donde se realizan todos los calculos para las variables del modelo."
   ]
  },
  {
   "cell_type": "code",
   "execution_count": 33,
   "id": "9e8327c8",
   "metadata": {},
   "outputs": [
    {
     "name": "stdout",
     "output_type": "stream",
     "text": [
      "Matriz de confusion\n",
      "[[ 2005  1729]\n",
      " [  744 10446]]\n",
      "Se calcula la exactitud promedio de datos que fueron correctamente predecidos:  0.8342937550254623\n",
      "Se compara frente al caso de identificar aleatoriamente una observación correcta\n",
      "Tiene un 0.3342937550254623 superior que un clasificador aleatorio\n",
      "Precision:  0.857987679671458 \n",
      "Recall:  0.9335120643431636 \n",
      "F1:  0.8941579285255725\n",
      "Hay un  0.857987679671458 % de identificaciones positivas correctas. Hay un  0.9335120643431636 % de positivos reales que se identificó correctamente. La medida general de desempeño es  0.8941579285255725 %.\n"
     ]
    }
   ],
   "source": [
    "#Se borran las columnas que no se pueden transformar, ya que no se especifico estos datos\n",
    "newtrain=df.drop(['relationship','race','gender','Income'],axis=1)\n",
    "X_train, X_test, y_train, y_test = train_test_split(newtrain, df['Income'], test_size=.33, random_state=11238)\n",
    "fun.learn(X_train, X_test, y_train, y_test, df)\n",
    "\n"
   ]
  },
  {
   "cell_type": "code",
   "execution_count": 34,
   "id": "d7b9be94",
   "metadata": {},
   "outputs": [
    {
     "name": "stdout",
     "output_type": "stream",
     "text": [
      "Matriz de confusion\n",
      "[[ 2056  1644]\n",
      " [  696 10528]]\n",
      "Se calcula la exactitud promedio de datos que fueron correctamente predecidos:  0.8432055749128919\n",
      "Se compara frente al caso de identificar aleatoriamente una observación correcta\n",
      "Tiene un 0.34320557491289194 superior que un clasificador aleatorio\n",
      "Precision:  0.8649359185014788 \n",
      "Recall:  0.9379900213827512 \n",
      "F1:  0.8999829030603521\n",
      "Hay un  0.8649359185014788 % de identificaciones positivas correctas. Hay un  0.9379900213827512 % de positivos reales que se identificó correctamente. La medida general de desempeño es  0.8999829030603521 %.\n"
     ]
    }
   ],
   "source": [
    "X_train2, X_test2, y_train2, y_test2 = train_test_split(newtrain, df['Income'], test_size=.33, random_state=12345)\n",
    "fun.learn(X_train2, X_test2, y_train2, y_test2, df)"
   ]
  },
  {
   "cell_type": "code",
   "execution_count": 35,
   "id": "235bc66c",
   "metadata": {},
   "outputs": [
    {
     "name": "stdout",
     "output_type": "stream",
     "text": [
      "Matriz de confusion\n",
      "[[ 2092  1567]\n",
      " [  794 10471]]\n",
      "Se calcula la exactitud promedio de datos que fueron correctamente predecidos:  0.841798445456982\n",
      "Se compara frente al caso de identificar aleatoriamente una observación correcta\n",
      "Tiene un 0.341798445456982 superior que un clasificador aleatorio\n",
      "Precision:  0.8698288752284432 \n",
      "Recall:  0.9295162006213937 \n",
      "F1:  0.8986825730592628\n",
      "Hay un  0.8698288752284432 % de identificaciones positivas correctas. Hay un  0.9295162006213937 % de positivos reales que se identificó correctamente. La medida general de desempeño es  0.8986825730592628 %.\n"
     ]
    }
   ],
   "source": [
    "X_train3, X_test3, y_train3, y_test3 = train_test_split(newtrain, df['Income'], test_size=.33, random_state=84756)\n",
    "fun.learn(X_train3, X_test3, y_train3, y_test3, df)"
   ]
  },
  {
   "cell_type": "markdown",
   "id": "7196daf6",
   "metadata": {},
   "source": [
    "Tanto en el promedio de datos correctamente predecidos y en la matriz de confución se puede notar facilmente que hubo una gran cantidad de aciertos.\n",
    "\n",
    "Con este porcentaje no se puede estar seguro dado que no hace distinción alguna frente a los tipos de errores (Falso Negativo y Falso Positivo), para eso se tiene la precision y recall, estos sugieren que el modelo tiene un desempeño aceptable. Dando una medida general aceptable."
   ]
  },
  {
   "cell_type": "code",
   "execution_count": null,
   "id": "09ba5462",
   "metadata": {},
   "outputs": [],
   "source": []
  },
  {
   "cell_type": "code",
   "execution_count": null,
   "id": "9821ccfb",
   "metadata": {},
   "outputs": [],
   "source": []
  }
 ],
 "metadata": {
  "kernelspec": {
   "display_name": "Python 3",
   "language": "python",
   "name": "python3"
  },
  "language_info": {
   "codemirror_mode": {
    "name": "ipython",
    "version": 3
   },
   "file_extension": ".py",
   "mimetype": "text/x-python",
   "name": "python",
   "nbconvert_exporter": "python",
   "pygments_lexer": "ipython3",
   "version": "3.8.8"
  }
 },
 "nbformat": 4,
 "nbformat_minor": 5
}
